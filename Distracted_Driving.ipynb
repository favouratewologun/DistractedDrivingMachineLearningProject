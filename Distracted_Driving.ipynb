{
  "nbformat": 4,
  "nbformat_minor": 0,
  "metadata": {
    "colab": {
      "provenance": [],
      "collapsed_sections": [
        "uofnvxpz-qdI"
      ],
      "include_colab_link": true
    },
    "kernelspec": {
      "name": "python3",
      "display_name": "Python 3"
    },
    "accelerator": "GPU"
  },
  "cells": [
    {
      "cell_type": "markdown",
      "metadata": {
        "id": "view-in-github",
        "colab_type": "text"
      },
      "source": [
        "<a href=\"https://colab.research.google.com/github/favouratewologun/DistractedDrivingMachineLearningProject/blob/main/Distracted_Driving.ipynb\" target=\"_parent\"><img src=\"https://colab.research.google.com/assets/colab-badge.svg\" alt=\"Open In Colab\"/></a>"
      ]
    },
    {
      "cell_type": "markdown",
      "metadata": {
        "id": "T13XTOeamF7y"
      },
      "source": [
        "# **Goal**\n",
        "In this notebook we will be:\n",
        "1.   Understanding and Building Neural Networks\n",
        "2.   Applying Neural Networks to Detecting Distracted Drivers\n",
        "3.   Exploring Convolutional Neural Networks\n",
        "4.   Implementing Transfer Learning\n",
        "\n"
      ]
    },
    {
      "cell_type": "code",
      "metadata": {
        "id": "aSeClkWgIORK",
        "colab": {
          "base_uri": "https://localhost:8080/"
        },
        "outputId": "ab32354a-a856-4a04-91bc-c8dc0e840595"
      },
      "source": [
        "#@title Run this to download data and prepare our environment! { display-mode: \"form\" }\n",
        "\n",
        "import numpy as np\n",
        "import pandas as pd\n",
        "\n",
        "import seaborn as sns\n",
        "import matplotlib.pyplot as plt\n",
        "\n",
        "from sklearn.metrics import accuracy_score\n",
        "\n",
        "import tensorflow.keras\n",
        "from tensorflow.keras.models import Sequential\n",
        "from tensorflow.keras.layers import Activation, MaxPooling2D, Dropout, Flatten, Reshape, Dense, Conv2D, GlobalAveragePooling2D\n",
        "import tensorflow.keras.optimizers as optimizers\n",
        "from tensorflow.keras.callbacks import ModelCheckpoint\n",
        "from tensorflow.keras.preprocessing.image import ImageDataGenerator\n",
        "from tensorflow.keras.applications import VGG16, VGG19, ResNet50, DenseNet121\n",
        "\n",
        "\n",
        "def label_to_numpy(labels):\n",
        "  final_labels = np.zeros((len(labels), 4))\n",
        "  for i in range(len(labels)):\n",
        "    label = labels[i]\n",
        "    if label == 'Attentive':\n",
        "      final_labels[i,:] = np.array([1, 0, 0, 0])\n",
        "    if label == 'DrinkingCoffee':\n",
        "      final_labels[i,:] = np.array([0, 1, 0, 0])\n",
        "    if label == 'UsingMirror':\n",
        "      final_labels[i,:] = np.array([0, 0, 1, 0])\n",
        "    if label == 'UsingRadio':\n",
        "      final_labels[i,:] = np.array([0, 0, 0, 1])\n",
        "  return final_labels\n",
        "\n",
        "class pkg:\n",
        "  #### DOWNLOADING AND LOADING DATA\n",
        "  def get_metadata(metadata_path, which_splits = ['train', 'test']):\n",
        "    '''returns metadata dataframe which contains columns of:\n",
        "       * index: index of data into numpy data\n",
        "       * class: class of image\n",
        "       * split: which dataset split is this a part of?\n",
        "    '''\n",
        "    metadata = pd.read_csv(metadata_path)\n",
        "    keep_idx = metadata['split'].isin(which_splits)\n",
        "    metadata = metadata[keep_idx]\n",
        "\n",
        "    # Get dataframes for each class.\n",
        "    df_coffee_train = metadata[(metadata['class'] == 'DrinkingCoffee') & \\\n",
        "                         (metadata['split'] == 'train')]\n",
        "    df_coffee_test = metadata[(metadata['class'] == 'DrinkingCoffee') & \\\n",
        "                         (metadata['split'] == 'test')]\n",
        "    df_mirror_train = metadata[(metadata['class'] == 'UsingMirror') & \\\n",
        "                         (metadata['split'] == 'train')]\n",
        "    df_mirror_test = metadata[(metadata['class'] == 'UsingMirror') & \\\n",
        "                         (metadata['split'] == 'test')]\n",
        "    df_attentive_train = metadata[(metadata['class'] == 'Attentive') & \\\n",
        "                         (metadata['split'] == 'train')]\n",
        "    df_attentive_test = metadata[(metadata['class'] == 'Attentive') & \\\n",
        "                         (metadata['split'] == 'test')]\n",
        "    df_radio_train = metadata[(metadata['class'] == 'UsingRadio') & \\\n",
        "                         (metadata['split'] == 'train')]\n",
        "    df_radio_test = metadata[(metadata['class'] == 'UsingRadio') & \\\n",
        "                         (metadata['split'] == 'test')]\n",
        "\n",
        "    # Get number of items in class with lowest number of images.\n",
        "    num_samples_train = min(df_coffee_train.shape[0], \\\n",
        "                            df_mirror_train.shape[0], \\\n",
        "                            df_attentive_train.shape[0], \\\n",
        "                            df_radio_train.shape[0])\n",
        "    num_samples_test = min(df_coffee_test.shape[0], \\\n",
        "                            df_mirror_test.shape[0], \\\n",
        "                            df_attentive_test.shape[0], \\\n",
        "                            df_radio_test.shape[0])\n",
        "\n",
        "    # Resample each of the classes and concatenate the images.\n",
        "    metadata_train = pd.concat([df_coffee_train.sample(num_samples_train), \\\n",
        "                          df_mirror_train.sample(num_samples_train), \\\n",
        "                          df_attentive_train.sample(num_samples_train), \\\n",
        "                          df_radio_train.sample(num_samples_train) ])\n",
        "    metadata_test = pd.concat([df_coffee_test.sample(num_samples_test), \\\n",
        "                          df_mirror_test.sample(num_samples_test), \\\n",
        "                          df_attentive_test.sample(num_samples_test), \\\n",
        "                          df_radio_test.sample(num_samples_test) ])\n",
        "\n",
        "    metadata = pd.concat( [metadata_train, metadata_test] )\n",
        "\n",
        "    return metadata\n",
        "\n",
        "  def get_data_split(split_name, flatten, all_data, metadata, image_shape):\n",
        "    '''\n",
        "    returns images (data), labels from folder of format [image_folder]/[split_name]/[class_name]/\n",
        "    flattens if flatten option is True\n",
        "    '''\n",
        "    # Get dataframes for each class.\n",
        "    df_coffee_train = metadata[(metadata['class'] == 'DrinkingCoffee') & \\\n",
        "                         (metadata['split'] == 'train')]\n",
        "    df_coffee_test = metadata[(metadata['class'] == 'DrinkingCoffee') & \\\n",
        "                         (metadata['split'] == 'test')]\n",
        "    df_mirror_train = metadata[(metadata['class'] == 'UsingMirror') & \\\n",
        "                         (metadata['split'] == 'train')]\n",
        "    df_mirror_test = metadata[(metadata['class'] == 'UsingMirror') & \\\n",
        "                         (metadata['split'] == 'test')]\n",
        "    df_attentive_train = metadata[(metadata['class'] == 'Attentive') & \\\n",
        "                         (metadata['split'] == 'train')]\n",
        "    df_attentive_test = metadata[(metadata['class'] == 'Attentive') & \\\n",
        "                         (metadata['split'] == 'test')]\n",
        "    df_radio_train = metadata[(metadata['class'] == 'UsingRadio') & \\\n",
        "                         (metadata['split'] == 'train')]\n",
        "    df_radio_test = metadata[(metadata['class'] == 'UsingRadio') & \\\n",
        "                         (metadata['split'] == 'test')]\n",
        "\n",
        "    # Get number of items in class with lowest number of images.\n",
        "    num_samples_train = min(df_coffee_train.shape[0], \\\n",
        "                            df_mirror_train.shape[0], \\\n",
        "                            df_attentive_train.shape[0], \\\n",
        "                            df_radio_train.shape[0])\n",
        "    num_samples_test = min(df_coffee_test.shape[0], \\\n",
        "                            df_mirror_test.shape[0], \\\n",
        "                            df_attentive_test.shape[0], \\\n",
        "                            df_radio_test.shape[0])\n",
        "\n",
        "    # Resample each of the classes and concatenate the images.\n",
        "    metadata_train = pd.concat([df_coffee_train.sample(num_samples_train), \\\n",
        "                          df_mirror_train.sample(num_samples_train), \\\n",
        "                          df_attentive_train.sample(num_samples_train), \\\n",
        "                          df_radio_train.sample(num_samples_train) ])\n",
        "    metadata_test = pd.concat([df_coffee_test.sample(num_samples_test), \\\n",
        "                          df_mirror_test.sample(num_samples_test), \\\n",
        "                          df_attentive_test.sample(num_samples_test), \\\n",
        "                          df_radio_test.sample(num_samples_test) ])\n",
        "\n",
        "    metadata = pd.concat( [metadata_train, metadata_test] )\n",
        "\n",
        "    sub_df = metadata[metadata['split'].isin([split_name])]\n",
        "    index  = sub_df['index'].values\n",
        "    labels = sub_df['class'].values\n",
        "    data = all_data[index,:]\n",
        "    if flatten:\n",
        "      data = data.reshape([-1, np.product(image_shape)])\n",
        "    return data, labels\n",
        "\n",
        "  def get_train_data(flatten, all_data, metadata, image_shape):\n",
        "    return get_data_split('train', flatten, all_data, metadata, image_shape)\n",
        "\n",
        "  def get_test_data(flatten, all_data, metadata, image_shape):\n",
        "    return get_data_split('test', flatten, all_data, metadata, image_shape)\n",
        "\n",
        "  def get_field_data(flatten, all_data, metadata, image_shape):\n",
        "    return get_data_split('field', flatten, all_data, metadata, image_shape)\n",
        "\n",
        "class helpers:\n",
        "  #### PLOTTING\n",
        "  def plot_image(data, num_ims, figsize=(8,6), labels = [], index = None, image_shape = [64,64,3]):\n",
        "    '''\n",
        "    if data is a single image, display that image\n",
        "\n",
        "    if data is a 4d stack of images, display that image\n",
        "    '''\n",
        "    print(data.shape)\n",
        "    num_dims   = len(data.shape)\n",
        "    num_labels = len(labels)\n",
        "\n",
        "    # reshape data if necessary\n",
        "    if num_dims == 1:\n",
        "      data = data.reshape(target_shape)\n",
        "    if num_dims == 2:\n",
        "      data = data.reshape(-1,image_shape[0],image_shape[1],image_shape[2])\n",
        "    num_dims   = len(data.shape)\n",
        "\n",
        "    # check if single or multiple images\n",
        "    if num_dims == 3:\n",
        "      if num_labels > 1:\n",
        "        print('Multiple labels does not make sense for single image.')\n",
        "        return\n",
        "\n",
        "      label = labels\n",
        "      if num_labels == 0:\n",
        "        label = ''\n",
        "      image = data\n",
        "\n",
        "    if num_dims == 4:\n",
        "      image = data[index, :]\n",
        "      label = labels[index]\n",
        "\n",
        "    # plot image of interest\n",
        "\n",
        "    nrows=int(np.sqrt(num_ims))\n",
        "    ncols=int(np.ceil(num_ims/nrows))\n",
        "    print(nrows,ncols)\n",
        "    count=0\n",
        "    if nrows==1 and ncols==1:\n",
        "      print('Label: %s'%label)\n",
        "      plt.imshow(image)\n",
        "      plt.show()\n",
        "    else:\n",
        "      print(labels)\n",
        "      fig = plt.figure(figsize=figsize)\n",
        "      for i in range(nrows):\n",
        "        for j in range(ncols):\n",
        "          if count<num_ims:\n",
        "            fig.add_subplot(nrows,ncols,count+1)\n",
        "            plt.imshow(image[count])\n",
        "            count+=1\n",
        "      fig.set_size_inches(18.5, 10.5)\n",
        "      plt.show()\n",
        "\n",
        "  # Checking correct model specs\n",
        "  def model_to_string(model):\n",
        "    import re\n",
        "    stringlist = []\n",
        "    model.summary(print_fn=lambda x: stringlist.append(x))\n",
        "\n",
        "    for layer in model.layers:\n",
        "      if hasattr(layer,\"activation\"):\n",
        "        stringlist.append(str(layer.activation))\n",
        "\n",
        "    sms = \"\\n\".join(stringlist)\n",
        "    sms = re.sub('_\\d\\d\\d','', sms)\n",
        "    sms = re.sub('_\\d\\d','', sms)\n",
        "    sms = re.sub('_\\d','', sms)\n",
        "    return sms\n",
        "\n",
        "  # plotting model performance\n",
        "  def plot_acc(history, ax = None, xlabel = 'Epoch #'):\n",
        "    history = history.history\n",
        "    history.update({'epoch':list(range(len(history['val_accuracy'])))})\n",
        "    history = pd.DataFrame.from_dict(history)\n",
        "\n",
        "    best_epoch = history.sort_values(by = 'val_accuracy', ascending = False).iloc[0]['epoch']\n",
        "\n",
        "    if not ax:\n",
        "      f, ax = plt.subplots(1,1)\n",
        "    sns.lineplot(x = 'epoch', y = 'val_accuracy', data = history, label = 'Validation', ax = ax)\n",
        "    sns.lineplot(x = 'epoch', y = 'accuracy', data = history, label = 'Training', ax = ax)\n",
        "    ax.axhline(0.25, linestyle = '--',color='red', label = 'Chance')\n",
        "    ax.axvline(x = best_epoch, linestyle = '--', color = 'green', label = 'Best Epoch')\n",
        "    ax.legend(loc = 7)\n",
        "    ax.set_ylim([0.01, 1])\n",
        "\n",
        "    ax.set_xlabel(xlabel)\n",
        "    ax.set_ylabel('Accuracy (Fraction)')\n",
        "\n",
        "    plt.show()\n",
        "\n",
        "class models:\n",
        "  def TransferClassifier(name, nn_params):\n",
        "    expert_dict = {'VGG16': VGG16,\n",
        "                   'VGG19': VGG19,\n",
        "                   'ResNet50':ResNet50,\n",
        "                   'DenseNet121':DenseNet121}\n",
        "\n",
        "    expert_conv = expert_dict[name](weights = 'imagenet',\n",
        "                                              include_top = False,\n",
        "                                              input_shape = nn_params['input_shape'])\n",
        "\n",
        "    expert_model = Sequential()\n",
        "    expert_model.add(expert_conv)\n",
        "    expert_model.add(GlobalAveragePooling2D())\n",
        "\n",
        "    expert_model.add(Dense(1024, activation = 'relu'))\n",
        "    expert_model.add(Dropout(0.3))\n",
        "\n",
        "    expert_model.add(Dense(512, activation = 'relu'))\n",
        "    expert_model.add(Dropout(0.3))\n",
        "\n",
        "    expert_model.add(Dense(nn_params['output_neurons'],\n",
        "                           activation = nn_params['output_activation']))\n",
        "\n",
        "    expert_model.compile(loss = nn_params['loss'],\n",
        "                  optimizer = optimizers.SGD(learning_rate=1e-4, momentum=0.95),\n",
        "                  metrics=['accuracy'])\n",
        "\n",
        "    return expert_model\n",
        "\n",
        "### defining project variables\n",
        "# file variables\n",
        "# image_data_url       = 'https://drive.google.com/uc?id=1qmTuUyn0525-612yS-wkp8gHB72Wv_XP'\n",
        "# metadata_url         = 'https://drive.google.com/uc?id=1OfKnq3uIT29sXjWSZqOOpceig8Ul24OW'\n",
        "image_data_path      = './image_data.npy'\n",
        "metadata_path        = './metadata.csv'\n",
        "image_shape          = (64, 64, 3)\n",
        "\n",
        "# neural net parameters\n",
        "nn_params = {}\n",
        "nn_params['input_shape']       = image_shape\n",
        "nn_params['output_neurons']    = 4\n",
        "nn_params['loss']              = 'categorical_crossentropy'\n",
        "nn_params['output_activation'] = 'softmax'\n",
        "\n",
        "### Download data\n",
        "!wget -q --show-progress 'https://storage.googleapis.com/inspirit-ai-data-bucket-1/Data/AI%20Scholars/Sessions%206%20-%2010%20(Projects)/Project%20-%20Driver%20Distraction%20Detection/metadata.csv'\n",
        "!wget -q --show-progress 'https://storage.googleapis.com/inspirit-ai-data-bucket-1/Data/AI%20Scholars/Sessions%206%20-%2010%20(Projects)/Project%20-%20Driver%20Distraction%20Detection/image_data.npy'\n",
        "\n",
        "### pre-loading all data of interest\n",
        "_all_data = np.load('image_data.npy')\n",
        "_metadata = pkg.get_metadata(metadata_path, ['train','test','field'])\n",
        "\n",
        "### preparing definitions\n",
        "# downloading and loading data\n",
        "get_data_split = pkg.get_data_split\n",
        "get_metadata    = lambda :                 pkg.get_metadata(metadata_path, ['train','test'])\n",
        "get_train_data  = lambda flatten = False : pkg.get_train_data(flatten = flatten, all_data = _all_data, metadata = _metadata, image_shape = image_shape)\n",
        "get_test_data   = lambda flatten = False : pkg.get_test_data(flatten = flatten, all_data = _all_data, metadata = _metadata, image_shape = image_shape)\n",
        "get_field_data  = lambda flatten = False : pkg.get_field_data(flatten = flatten, all_data = _all_data, metadata = _metadata, image_shape = image_shape)\n",
        "\n",
        "# plotting\n",
        "plot_image = lambda data, num_ims,figsize=(8,6), labels = [], index = None: helpers.plot_image(data = data, num_ims=num_ims, figsize=figsize,labels = labels, index = index, image_shape = image_shape);\n",
        "plot_acc       = lambda history: helpers.plot_acc(history)\n",
        "\n",
        "# checking student model specs\n",
        "model_to_string        = lambda model: helpers.model_to_string(model)\n",
        "\n",
        "# models with input parameters\n",
        "TransferClassifier  = lambda name: models.TransferClassifier(name = name, nn_params = nn_params);\n",
        "\n",
        "monitor = ModelCheckpoint('./model.keras', monitor='val_loss', verbose=0, save_best_only=True, save_weights_only=False, mode='auto', save_freq='epoch')"
      ],
      "execution_count": 9,
      "outputs": [
        {
          "output_type": "stream",
          "name": "stdout",
          "text": [
            "metadata.csv.1      100%[===================>] 200.33K  --.-KB/s    in 0.002s  \n",
            "image_data.npy.1    100%[===================>] 423.61M   205MB/s    in 2.1s    \n"
          ]
        }
      ]
    },
    {
      "cell_type": "markdown",
      "metadata": {
        "id": "QFfMH3dYX_GM"
      },
      "source": [
        "# Milestone 1. Understanding and building Neural Networks"
      ]
    },
    {
      "cell_type": "markdown",
      "metadata": {
        "id": "SYqvCKWpKfRM"
      },
      "source": [
        "### What are neural networks?"
      ]
    },
    {
      "cell_type": "markdown",
      "metadata": {
        "id": "qA1Rc_u3KoJT"
      },
      "source": [
        "Just as we went over last week, neural networks look something like this:\n",
        "![A 2 layer neural network](https://cdn-images-1.medium.com/max/1600/1*DW0Ccmj1hZ0OvSXi7Kz5MQ.jpeg)\n"
      ]
    },
    {
      "cell_type": "markdown",
      "metadata": {
        "id": "3Q9S6SDcM8N9"
      },
      "source": [
        "Each orange and blue node is a neuron. The network itself is composed of a bunch of neurons that talk to each other and eventually give us a prediction.\n",
        "\n",
        "**In terms of this problem, what do each of the 4 blue neurons correspond to?**"
      ]
    },
    {
      "cell_type": "markdown",
      "metadata": {
        "id": "0dik5yhBOERG"
      },
      "source": [
        "## Activity 1. Building networks"
      ]
    },
    {
      "cell_type": "markdown",
      "metadata": {
        "id": "E--8mjToZYBp"
      },
      "source": [
        "To build neural networks in Python, we use the packages known as `tensorflow` and `keras`. Let's learn how to build and use these networks!"
      ]
    },
    {
      "cell_type": "markdown",
      "metadata": {
        "id": "G8PrEOTbhgNN"
      },
      "source": [
        "Tensorflow calls the various machine learning algorithms that it uses 'models'.  These 'models' are 'learning machines.''\n",
        "\n",
        "1. We **teach** models by **training** them on **data**.\n",
        "2. We **use** models to **predict** things.\n"
      ]
    },
    {
      "cell_type": "code",
      "metadata": {
        "id": "cqFAnQCxsgRm"
      },
      "source": [
        "# grab tools from our tensorflow and keras toolboxes!\n",
        "import tensorflow as tf\n",
        "from tensorflow.keras.models import Sequential\n",
        "from tensorflow.keras.layers import Activation, Dropout, Flatten, Dense\n",
        "from tensorflow.keras import optimizers"
      ],
      "execution_count": 11,
      "outputs": []
    },
    {
      "cell_type": "markdown",
      "metadata": {
        "id": "cPOqTta1sb6e"
      },
      "source": [
        "Before we train the model or use it to predict something, we have to **create** the model."
      ]
    },
    {
      "cell_type": "code",
      "metadata": {
        "id": "Yus22AQpsqMH",
        "colab": {
          "base_uri": "https://localhost:8080/"
        },
        "outputId": "d069a86a-1547-4dd2-ffce-bb88eace4095"
      },
      "source": [
        "# create our model by specifying and compiling it\n",
        "model_1 = Sequential()\n",
        "model_1.add(Dense(4, input_shape=(3,),activation = 'relu'))\n",
        "model_1.add(Dense(1, activation = 'linear'))\n",
        "model_1.compile(loss='mean_squared_error',\n",
        "                optimizer='adam',\n",
        "                metrics=['mean_squared_error'])"
      ],
      "execution_count": 12,
      "outputs": [
        {
          "output_type": "stream",
          "name": "stderr",
          "text": [
            "/usr/local/lib/python3.10/dist-packages/keras/src/layers/core/dense.py:87: UserWarning: Do not pass an `input_shape`/`input_dim` argument to a layer. When using Sequential models, prefer using an `Input(shape)` object as the first layer in the model instead.\n",
            "  super().__init__(activity_regularizer=activity_regularizer, **kwargs)\n"
          ]
        }
      ]
    },
    {
      "cell_type": "markdown",
      "metadata": {
        "id": "LG3k7_983L1s"
      },
      "source": [
        "The things you'll want to pay most attention to as we go over how to build networks are:\n",
        "1. The number of neurons\n",
        "2. The activation of the neurons\n",
        "3. The losses and metrics\n",
        "\n",
        "Everything else will work with the default settings!"
      ]
    },
    {
      "cell_type": "markdown",
      "metadata": {
        "id": "781M4IyhssuA"
      },
      "source": [
        "Let's walk though what each of these lines of code means!\n",
        "\n",
        "**1. Specify model**\n",
        "\n",
        "```\n",
        "model = Sequential()\n",
        "```\n",
        "This line of code initializes our model! We build our network where the information flows from LEFT to RIGHT through the network in ONE DIRECTION as opposed to multiple directions. Neurons on the right never pass informations to neurons on the left of it.\n",
        "\n",
        "\n",
        "**2. Add layers to the network**\n",
        "```\n",
        "model.add(Dense(4,input_shape = (3,), activation = 'sigmoid'))\n",
        "```\n",
        "In this code, we use the `add` function on our model to add a `layer` of neurons to our network.\n",
        "\n",
        "The layer is DENSE, meaning every neuron of the current layer receives input from every neuron of the previous layer, **and** outputs information to every neuron of the next layer. This layer consists of `4` neurons. With our first `add` function, we also specify the `input_shape`, which consists of the `3` neurons in the input layer.\n",
        "\n",
        "We also specify what kind of output, or `activation` the neuron will give. If you want the neuron to output a number between 0 and 1 (like a probability!) you would use `'softmax'` or `'sigmoid'`. If you want the neuron to output any number, you can use `'linear'`! You'll also often see `'relu'`, which is when a neuron will only output positive numbers.\n",
        "\n",
        "```\n",
        "model.add(Dense(1, activation = 'linear'))\n",
        "```\n",
        "This code adds ANOTHER layer to the network that has 1 neuron. This one neuron is used to predict a continuous value!\n",
        "\n",
        "**3. Turn the model on by compiling it**\n",
        "\n",
        "After having built the network, we want to train and use it, so we have to 'turn it on' and 'compile' it. To turn it on, we have to specify at the very least, a loss, an optimizer, and some way of evaluating the model (metrics). Don't worry too much about what this means! Just know that this is necessary.\n",
        "\n",
        "```\n",
        "model.compile(loss='mean_squared_error',\n",
        "optimizer = 'adam',\n",
        "metrics = ['mean_squared_error'])\n",
        "  ```"
      ]
    },
    {
      "cell_type": "markdown",
      "metadata": {
        "id": "toYjQUOVtKDT"
      },
      "source": [
        "Once we've created our network, we can use it very simply! Just like we did with sklearn, we define our input data `x`, the true predictions from that data `y`, and then train our model with `fit`.\n",
        "\n",
        "```\n",
        "model.fit(x, y)\n",
        "```\n"
      ]
    },
    {
      "cell_type": "markdown",
      "metadata": {
        "id": "-aozkfBxtWa7"
      },
      "source": [
        "To use the model, you can use it to predict something with:\n",
        "```\n",
        "y = model.predict_classes(x)\n",
        "```\n",
        "\n",
        "You can actually use the model before you even train it! It just won't perform very well."
      ]
    },
    {
      "cell_type": "markdown",
      "metadata": {
        "id": "Wlnni4nPyCA3"
      },
      "source": [
        "## Exercise (Coding): A 2-Layer Model"
      ]
    },
    {
      "cell_type": "markdown",
      "metadata": {
        "id": "xP5Z9cEMyBpM"
      },
      "source": [
        "\n",
        "We're going to build this model:\n",
        "\n",
        "![](http://cs231n.github.io/assets/nn1/neural_net.jpeg)"
      ]
    },
    {
      "cell_type": "markdown",
      "metadata": {
        "id": "jxN_eHSoyBcF"
      },
      "source": [
        "This network can be described as:\n",
        "* Input Layer: 3\n",
        "* Layer 1 (Hidden): 4 neurons that are activated by `'relu'`\n",
        "* Layer 2 (Output): 2 neurons that are activated by `'softmax'`\n",
        "\n",
        "\n",
        "We also want to compile the model with\n",
        "`loss = 'categorical_crossentropy'`"
      ]
    },
    {
      "cell_type": "code",
      "source": [
        "# Replace the None values with your group!\n",
        "model_2 = Sequential()\n",
        "model_2.add(Dense(4, input_shape = (3,), activation = \"relu\"))\n",
        "model_2.add(Dense(2, activation = \"softmax\"))\n",
        "\n",
        "model_2.compile(loss='categorical_crossentropy',\n",
        "                optimizer = 'adam',\n",
        "                metrics = ['accuracy'])\n"
      ],
      "metadata": {
        "id": "uhKNoS95BmDV"
      },
      "execution_count": 13,
      "outputs": []
    },
    {
      "cell_type": "code",
      "metadata": {
        "id": "IH2UGOK4vuZ4",
        "colab": {
          "base_uri": "https://localhost:8080/",
          "height": 34
        },
        "outputId": "3c8f9bcc-60fe-4040-d0ea-24811d9604ca"
      },
      "source": [
        "#@title Run this to test if your model is right!\n",
        "model_2_answer = Sequential()\n",
        "model_2_answer.add(Dense(4, input_shape = (3,), activation = 'relu'))\n",
        "model_2_answer.add(Dense(2, activation = 'softmax'))\n",
        "model_2_answer.compile(loss='categorical_crossentropy',\n",
        "                       optimizer = 'adam',\n",
        "                       metrics = ['accuracy'])\n",
        "\n",
        "if model_to_string(model_2) == model_to_string(model_2_answer):\n",
        "  print('Good job! Your model worked')\n",
        "else:\n",
        "  print('Please check your code again!')"
      ],
      "execution_count": 21,
      "outputs": [
        {
          "output_type": "display_data",
          "data": {
            "text/plain": [],
            "text/html": [
              "<pre style=\"white-space:pre;overflow-x:auto;line-height:normal;font-family:Menlo,'DejaVu Sans Mono',consolas,'Courier New',monospace\"></pre>\n"
            ]
          },
          "metadata": {}
        },
        {
          "output_type": "display_data",
          "data": {
            "text/plain": [],
            "text/html": [
              "<pre style=\"white-space:pre;overflow-x:auto;line-height:normal;font-family:Menlo,'DejaVu Sans Mono',consolas,'Courier New',monospace\"></pre>\n"
            ]
          },
          "metadata": {}
        },
        {
          "output_type": "stream",
          "name": "stdout",
          "text": [
            "Good job! Your model worked\n"
          ]
        }
      ]
    },
    {
      "cell_type": "markdown",
      "metadata": {
        "id": "tyLV1oHjT62K"
      },
      "source": [
        "# Milestone 2. Applying Neural Networks to Detecting Distracted Drivers"
      ]
    },
    {
      "cell_type": "markdown",
      "metadata": {
        "id": "hBp4yqqoJF65"
      },
      "source": [
        "## Instructor-Led Discussion: Model Architecture"
      ]
    },
    {
      "cell_type": "markdown",
      "metadata": {
        "id": "PD3Z0QamJF68"
      },
      "source": [
        "\n",
        "In our problem, we are given `images` of shape `(64,64,3)`, each assigned to one of 4 labels: `Attentive`, `DrinkingCoffee`, `UsingRadio`, or `UsingMirror`. We want to identify the key things that we need to design our network.\n",
        "\n",
        "In your group, discuss:\n",
        "\n",
        "* What are our inputs?\n",
        "* What is/are our outputs?\n",
        "\n",
        "How could this look in a neural network diagram?\n",
        "\n",
        "**Let's discuss as a class!!**"
      ]
    },
    {
      "cell_type": "markdown",
      "metadata": {
        "id": "K-7tm6ZlJF7G"
      },
      "source": [
        "## Activity 2b. Building our custom neural network"
      ]
    },
    {
      "cell_type": "markdown",
      "metadata": {
        "id": "e8pozxKuJF7I"
      },
      "source": [
        "### Key Points"
      ]
    },
    {
      "cell_type": "markdown",
      "metadata": {
        "id": "UN4Pyw4qJF7N"
      },
      "source": [
        "We will build a simple 2-layer network, also known as a perceptron, for our first model!\n",
        "\n",
        "\n",
        "For our model, we have as our layers:\n",
        "* Input Layer:  However many inputs there are!\n",
        "* Layer 1 (Hidden): 128 neurons that are activated by `'relu'`\n",
        "* Layer 2 (Output): 4 neurons (1 per possible predicted class) that should have an appropriate activation.\n",
        "* We will compile with the `optimizers.SGD(learning_rate=1e-4, momentum=0.95)` optimizer\n",
        "\n",
        "As a hint for the output activation and the compilation loss, we know that:\n",
        "* **Binary classification** problems require an output activation of `'sigmoid'` and a loss of `'binary_cross_entropy'`\n",
        "* **Multi-class classification** problems require an output activation of `'softmax'` and a loss of `'categorical_crossentropy'`\n",
        "* **Linear regression** problems require an output activation of `'linear'` and a loss of `'mean_squared_error'`\n",
        "\n",
        "\n"
      ]
    },
    {
      "cell_type": "markdown",
      "metadata": {
        "id": "LzFTOYMiJF7Q"
      },
      "source": [
        "###Build Your Model\n",
        "Remember that a multi-layer perceptron requires flattened input, but our images have shape `(64, 64, 3)`.\n",
        "We have added the `Flatten()` layer for you, which flattens our input as desired -- your job is to add the rest of the layers and compile your model!"
      ]
    },
    {
      "cell_type": "code",
      "metadata": {
        "id": "ZJUSGm_oJF7h",
        "colab": {
          "base_uri": "https://localhost:8080/"
        },
        "outputId": "42b824de-f6b9-480a-fa29-f8a74a330ded"
      },
      "source": [
        "model_3 = Sequential()\n",
        "model_3.add(Flatten(input_shape = (64, 64, 3)))\n",
        "### FILL IN YOUR CODE HERE\n",
        "model_3.add(Dense(units = 128, activation = \"relu\"))\n",
        "model_3.add(Dense(units = 4, activation = \"softmax\"))\n",
        "\n",
        "model_3.compile(optimizers.SGD(learning_rate =1e-4, momentum = 0.95),\n",
        "                loss = \"categorical_crossentropy\",\n",
        "                metrics = [\"accuracy\"])\n",
        "\n",
        "\n",
        "### END CODE\n"
      ],
      "execution_count": 23,
      "outputs": [
        {
          "output_type": "stream",
          "name": "stderr",
          "text": [
            "/usr/local/lib/python3.10/dist-packages/keras/src/layers/reshaping/flatten.py:37: UserWarning: Do not pass an `input_shape`/`input_dim` argument to a layer. When using Sequential models, prefer using an `Input(shape)` object as the first layer in the model instead.\n",
            "  super().__init__(**kwargs)\n"
          ]
        }
      ]
    },
    {
      "cell_type": "code",
      "metadata": {
        "id": "9i-xfhnaJF7q",
        "colab": {
          "base_uri": "https://localhost:8080/",
          "height": 34
        },
        "outputId": "aa91dc5b-2067-445f-cb79-2ba791858697"
      },
      "source": [
        "#@title Run this to test if your model is right! { display-mode: \"form\" }\n",
        "model_3_answer = Sequential()\n",
        "model_3_answer.add(Flatten(input_shape = (64, 64, 3)))\n",
        "model_3_answer.add(Dense(units = 128, activation = 'relu'))\n",
        "model_3_answer.add(Dense(units = 4, activation = 'softmax'))\n",
        "\n",
        "model_3_answer.compile(loss='categorical_crossentropy',\n",
        "              optimizer=optimizers.SGD(learning_rate=1e-4, momentum=0.95),\n",
        "              metrics=['accuracy'])\n",
        "\n",
        "if model_to_string(model_3) == model_to_string(model_3_answer):\n",
        "  print('Good job, you specified it correctly!')\n",
        "else:\n",
        "  print('Please check your code again!')"
      ],
      "execution_count": 24,
      "outputs": [
        {
          "output_type": "display_data",
          "data": {
            "text/plain": [],
            "text/html": [
              "<pre style=\"white-space:pre;overflow-x:auto;line-height:normal;font-family:Menlo,'DejaVu Sans Mono',consolas,'Courier New',monospace\"></pre>\n"
            ]
          },
          "metadata": {}
        },
        {
          "output_type": "display_data",
          "data": {
            "text/plain": [],
            "text/html": [
              "<pre style=\"white-space:pre;overflow-x:auto;line-height:normal;font-family:Menlo,'DejaVu Sans Mono',consolas,'Courier New',monospace\"></pre>\n"
            ]
          },
          "metadata": {}
        },
        {
          "output_type": "stream",
          "name": "stdout",
          "text": [
            "Good job, you specified it correctly!\n"
          ]
        }
      ]
    },
    {
      "cell_type": "markdown",
      "metadata": {
        "id": "nayBlbHmj4Ii"
      },
      "source": [
        "### Exercise (Coding)\n",
        "\n"
      ]
    },
    {
      "cell_type": "markdown",
      "metadata": {
        "id": "AItvQJE5NY0H"
      },
      "source": [
        "## Now let's apply data augmentation to our images.\n",
        "\n",
        "After defining our model, we often deal with the issue of a limited amount of training data in machine learning. As you might imagine, a model trained on a small set of data is likely to perform poorly because of overfitting, which means it doesn't generalize well to new, unseen data.\n",
        "\n",
        "This is where data augmentation steps in. By creating modifications of our training data, we can artificially increase its size and diversity, improving the model's performance and generalization ability.\n",
        "\n",
        "In the case of images, we can use the `ImageDataGenerator` class from Keras. This allows us to make random transformations to our images, such as rotations, translations, zooms, and flips, so that our model can learn from a wider range of data.\n",
        "\n",
        "Here's how we use it:\n",
        "\n",
        "```python\n",
        "data_augmentation = ImageDataGenerator(\n",
        "    rotation_range=10,\n",
        "    width_shift_range=0.1,\n",
        "    height_shift_range=0.1,\n",
        "    shear_range=0.2,\n",
        "    zoom_range=0.2,\n",
        "    horizontal_flip=True,\n",
        "    fill_mode='nearest'\n",
        ")\n",
        "```\n",
        "With this setup:\n",
        "- `rotation_range=10`: our image will be randomly rotated between 0 and 10 degrees.\n",
        "- `width_shift_range=0.1` and `height_shift_range=0.1`: our image will be moved up to 10% horizontally and vertically.\n",
        "- `shear_range=0.2`: a shear (stretching) transformation will be randomly applied up to 20%.\n",
        "- `zoom_range=0.2`: our image will be randomly zoomed up to 20%.\n",
        "- `horizontal_flip=True`: our image can be flipped horizontally.\n",
        "- `fill_mode='nearest'`: any new pixels created by these transformations will be filled with the 'nearest' color in the original image.\n",
        "\n",
        "**It's time to use the augmented data to train our model!**\n",
        "\n",
        "## Let's now train our perceptron on images from the train data!\n",
        "\n",
        "Unlike the models that we used in sklearn, our neural networks are pretty finnicky. Their performance depends a lot on *how much* they train. As we'll see, they usually get better with more training BUT actually can get worse with too much training. With too much training, our model can memorize the training data (overfitting), and so doesn't actually think (generalize) when it is tested.\n",
        "\n",
        "The extra options in our `fit()` function pertain to how the neural networks train. Don't worry too much about the extra options, what really matters for us is that the right data is specified.\n",
        "\n",
        "To use `fit`, we use the following code:\n",
        "```\n",
        "X_train, y_train = get_train_data()\n",
        "history = our_model.fit(data_augmentation.flow(X_train, y_train, batch_size=32), epochs = 10, validation_data = (X_test, y_test), shuffle = True, callbacks = [monitor])\n",
        "```\n",
        "What are all these options?\n",
        "* `epochs`: how many times the model trains on the entire data set\n",
        "* `shuffle`: mixes the training dataset so the model pays better attention to the data and learns better while training\n",
        "* `validation_data`: we request that our model tests itself on the `test_data` after every epoch. Since our model is finnicky, instead of testing our model at the end of the training, we test it throughout.\n",
        "\n",
        " `history` gives us a data structure which allows us to plot the training and validation accuracy over time.\n",
        "\n",
        "We have one more option too:\n",
        "* `callbacks`: With a custom command, we tell our model to save the best version of itself to a model file called `model.h5`.\n",
        "\n",
        "\n",
        "**Specifically, load in the training and testing data and then train your MLP model.**\n",
        "\n",
        "_Note: Remember you already created your model above (model_3)._\n"
      ]
    },
    {
      "cell_type": "code",
      "metadata": {
        "id": "-tjgTdXv6Kh7",
        "colab": {
          "base_uri": "https://localhost:8080/"
        },
        "outputId": "6af0493c-b596-4061-bb05-7ffb6af4646c"
      },
      "source": [
        "from tensorflow.keras.layers import Flatten # Import Flatten from the correct location\n",
        "from tensorflow.keras.callbacks import ModelCheckpoint\n",
        "\n",
        "# Define our monitor. Don't worry about the parameters here except for './model.h5',\n",
        "# which is the file that our model saves to.\n",
        "monitor = ModelCheckpoint('./model.keras', monitor='val_loss', verbose=0,\n",
        "                          save_best_only=True, save_weights_only=False,\n",
        "                          mode='auto', save_freq='epoch')\n",
        "\n",
        "# Create an instance of ImageDataGenerator for data augmentation\n",
        "data_augmentation = ImageDataGenerator(\n",
        "    rotation_range=10,  # Rotate images randomly up to 10 degrees\n",
        "    width_shift_range=0.1,  # Shift images horizontally by a fraction of the width\n",
        "    height_shift_range=0.1,  # Shift images vertically by a fraction of the height\n",
        "    shear_range=0.2,  # Apply shear transformation with a shear angle up to 20 degrees\n",
        "    zoom_range=0.2,  # Randomly zoom images by a factor up to 20%\n",
        "    horizontal_flip=True,  # Flip images horizontally\n",
        "    fill_mode='nearest'  # Fill in newly created pixels after rotation or shifting\n",
        ")\n",
        "\n",
        "### YOUR CODE HERE (get the train data and test data!)\n",
        "\n",
        "X_train, y_train = get_train_data()\n",
        "X_test, y_test = get_test_data()\n",
        "\n",
        "\n",
        "\n",
        "### END CODE\n",
        "\n",
        "# Reshape the data\n",
        "X_train = X_train.reshape([-1, 64, 64, 3])\n",
        "X_test = X_test.reshape([-1, 64, 64, 3])\n",
        "\n",
        "# Convert string labels into numpy arrays.\n",
        "y_train = label_to_numpy(y_train)\n",
        "y_test = label_to_numpy(y_test)\n",
        "\n",
        "### YOUR CODE HERE (fit your model!)\n",
        "history = model_3.fit(data_augmentation.flow(X_train, y_train, batch_size=32), epochs = 40, validation_data = (X_test, y_test), shuffle = True, callbacks = [monitor])\n",
        "### END CODE\n"
      ],
      "execution_count": 27,
      "outputs": [
        {
          "output_type": "stream",
          "name": "stdout",
          "text": [
            "Epoch 1/40\n"
          ]
        },
        {
          "output_type": "stream",
          "name": "stderr",
          "text": [
            "/usr/local/lib/python3.10/dist-packages/keras/src/trainers/data_adapters/py_dataset_adapter.py:121: UserWarning: Your `PyDataset` class should call `super().__init__(**kwargs)` in its constructor. `**kwargs` can include `workers`, `use_multiprocessing`, `max_queue_size`. Do not pass these arguments to `fit()`, as they will be ignored.\n",
            "  self._warn_if_super_not_called()\n"
          ]
        },
        {
          "output_type": "stream",
          "name": "stdout",
          "text": [
            "\u001b[1m211/211\u001b[0m \u001b[32m━━━━━━━━━━━━━━━━━━━━\u001b[0m\u001b[37m\u001b[0m \u001b[1m14s\u001b[0m 52ms/step - accuracy: 0.3038 - loss: 1.3952 - val_accuracy: 0.3011 - val_loss: 1.3842\n",
            "Epoch 2/40\n",
            "\u001b[1m211/211\u001b[0m \u001b[32m━━━━━━━━━━━━━━━━━━━━\u001b[0m\u001b[37m\u001b[0m \u001b[1m8s\u001b[0m 38ms/step - accuracy: 0.3850 - loss: 1.2907 - val_accuracy: 0.2685 - val_loss: 1.4051\n",
            "Epoch 3/40\n",
            "\u001b[1m211/211\u001b[0m \u001b[32m━━━━━━━━━━━━━━━━━━━━\u001b[0m\u001b[37m\u001b[0m \u001b[1m9s\u001b[0m 44ms/step - accuracy: 0.4402 - loss: 1.2320 - val_accuracy: 0.4163 - val_loss: 1.3132\n",
            "Epoch 4/40\n",
            "\u001b[1m211/211\u001b[0m \u001b[32m━━━━━━━━━━━━━━━━━━━━\u001b[0m\u001b[37m\u001b[0m \u001b[1m10s\u001b[0m 44ms/step - accuracy: 0.4600 - loss: 1.2111 - val_accuracy: 0.3130 - val_loss: 1.4176\n",
            "Epoch 5/40\n",
            "\u001b[1m211/211\u001b[0m \u001b[32m━━━━━━━━━━━━━━━━━━━━\u001b[0m\u001b[37m\u001b[0m \u001b[1m10s\u001b[0m 44ms/step - accuracy: 0.4841 - loss: 1.1767 - val_accuracy: 0.3793 - val_loss: 1.3174\n",
            "Epoch 6/40\n",
            "\u001b[1m211/211\u001b[0m \u001b[32m━━━━━━━━━━━━━━━━━━━━\u001b[0m\u001b[37m\u001b[0m \u001b[1m8s\u001b[0m 37ms/step - accuracy: 0.5098 - loss: 1.1400 - val_accuracy: 0.3989 - val_loss: 1.4032\n",
            "Epoch 7/40\n",
            "\u001b[1m211/211\u001b[0m \u001b[32m━━━━━━━━━━━━━━━━━━━━\u001b[0m\u001b[37m\u001b[0m \u001b[1m9s\u001b[0m 44ms/step - accuracy: 0.5250 - loss: 1.1184 - val_accuracy: 0.4000 - val_loss: 1.3454\n",
            "Epoch 8/40\n",
            "\u001b[1m211/211\u001b[0m \u001b[32m━━━━━━━━━━━━━━━━━━━━\u001b[0m\u001b[37m\u001b[0m \u001b[1m9s\u001b[0m 44ms/step - accuracy: 0.5220 - loss: 1.1021 - val_accuracy: 0.4315 - val_loss: 1.3349\n",
            "Epoch 9/40\n",
            "\u001b[1m211/211\u001b[0m \u001b[32m━━━━━━━━━━━━━━━━━━━━\u001b[0m\u001b[37m\u001b[0m \u001b[1m8s\u001b[0m 37ms/step - accuracy: 0.5312 - loss: 1.0962 - val_accuracy: 0.3924 - val_loss: 1.3996\n",
            "Epoch 10/40\n",
            "\u001b[1m211/211\u001b[0m \u001b[32m━━━━━━━━━━━━━━━━━━━━\u001b[0m\u001b[37m\u001b[0m \u001b[1m10s\u001b[0m 38ms/step - accuracy: 0.5595 - loss: 1.0592 - val_accuracy: 0.4109 - val_loss: 1.4054\n",
            "Epoch 11/40\n",
            "\u001b[1m211/211\u001b[0m \u001b[32m━━━━━━━━━━━━━━━━━━━━\u001b[0m\u001b[37m\u001b[0m \u001b[1m10s\u001b[0m 44ms/step - accuracy: 0.5490 - loss: 1.0539 - val_accuracy: 0.4413 - val_loss: 1.2591\n",
            "Epoch 12/40\n",
            "\u001b[1m211/211\u001b[0m \u001b[32m━━━━━━━━━━━━━━━━━━━━\u001b[0m\u001b[37m\u001b[0m \u001b[1m9s\u001b[0m 43ms/step - accuracy: 0.5668 - loss: 1.0309 - val_accuracy: 0.4163 - val_loss: 1.3864\n",
            "Epoch 13/40\n",
            "\u001b[1m211/211\u001b[0m \u001b[32m━━━━━━━━━━━━━━━━━━━━\u001b[0m\u001b[37m\u001b[0m \u001b[1m8s\u001b[0m 38ms/step - accuracy: 0.5895 - loss: 1.0156 - val_accuracy: 0.4370 - val_loss: 1.3451\n",
            "Epoch 14/40\n",
            "\u001b[1m211/211\u001b[0m \u001b[32m━━━━━━━━━━━━━━━━━━━━\u001b[0m\u001b[37m\u001b[0m \u001b[1m10s\u001b[0m 44ms/step - accuracy: 0.5928 - loss: 1.0057 - val_accuracy: 0.4348 - val_loss: 1.3313\n",
            "Epoch 15/40\n",
            "\u001b[1m211/211\u001b[0m \u001b[32m━━━━━━━━━━━━━━━━━━━━\u001b[0m\u001b[37m\u001b[0m \u001b[1m10s\u001b[0m 44ms/step - accuracy: 0.6035 - loss: 0.9753 - val_accuracy: 0.4457 - val_loss: 1.2121\n",
            "Epoch 16/40\n",
            "\u001b[1m211/211\u001b[0m \u001b[32m━━━━━━━━━━━━━━━━━━━━\u001b[0m\u001b[37m\u001b[0m \u001b[1m9s\u001b[0m 39ms/step - accuracy: 0.6086 - loss: 0.9731 - val_accuracy: 0.4576 - val_loss: 1.2899\n",
            "Epoch 17/40\n",
            "\u001b[1m211/211\u001b[0m \u001b[32m━━━━━━━━━━━━━━━━━━━━\u001b[0m\u001b[37m\u001b[0m \u001b[1m10s\u001b[0m 37ms/step - accuracy: 0.6041 - loss: 0.9736 - val_accuracy: 0.4598 - val_loss: 1.2892\n",
            "Epoch 18/40\n",
            "\u001b[1m211/211\u001b[0m \u001b[32m━━━━━━━━━━━━━━━━━━━━\u001b[0m\u001b[37m\u001b[0m \u001b[1m11s\u001b[0m 40ms/step - accuracy: 0.6304 - loss: 0.9362 - val_accuracy: 0.4750 - val_loss: 1.1455\n",
            "Epoch 19/40\n",
            "\u001b[1m211/211\u001b[0m \u001b[32m━━━━━━━━━━━━━━━━━━━━\u001b[0m\u001b[37m\u001b[0m \u001b[1m11s\u001b[0m 43ms/step - accuracy: 0.6234 - loss: 0.9423 - val_accuracy: 0.4587 - val_loss: 1.2296\n",
            "Epoch 20/40\n",
            "\u001b[1m211/211\u001b[0m \u001b[32m━━━━━━━━━━━━━━━━━━━━\u001b[0m\u001b[37m\u001b[0m \u001b[1m10s\u001b[0m 44ms/step - accuracy: 0.6413 - loss: 0.9366 - val_accuracy: 0.4935 - val_loss: 1.1763\n",
            "Epoch 21/40\n",
            "\u001b[1m211/211\u001b[0m \u001b[32m━━━━━━━━━━━━━━━━━━━━\u001b[0m\u001b[37m\u001b[0m \u001b[1m10s\u001b[0m 43ms/step - accuracy: 0.6417 - loss: 0.9271 - val_accuracy: 0.4924 - val_loss: 1.2974\n",
            "Epoch 22/40\n",
            "\u001b[1m211/211\u001b[0m \u001b[32m━━━━━━━━━━━━━━━━━━━━\u001b[0m\u001b[37m\u001b[0m \u001b[1m8s\u001b[0m 38ms/step - accuracy: 0.6480 - loss: 0.8888 - val_accuracy: 0.5174 - val_loss: 1.2105\n",
            "Epoch 23/40\n",
            "\u001b[1m211/211\u001b[0m \u001b[32m━━━━━━━━━━━━━━━━━━━━\u001b[0m\u001b[37m\u001b[0m \u001b[1m9s\u001b[0m 44ms/step - accuracy: 0.6531 - loss: 0.8850 - val_accuracy: 0.4891 - val_loss: 1.2905\n",
            "Epoch 24/40\n",
            "\u001b[1m211/211\u001b[0m \u001b[32m━━━━━━━━━━━━━━━━━━━━\u001b[0m\u001b[37m\u001b[0m \u001b[1m10s\u001b[0m 44ms/step - accuracy: 0.6592 - loss: 0.8831 - val_accuracy: 0.5217 - val_loss: 1.1515\n",
            "Epoch 25/40\n",
            "\u001b[1m211/211\u001b[0m \u001b[32m━━━━━━━━━━━━━━━━━━━━\u001b[0m\u001b[37m\u001b[0m \u001b[1m9s\u001b[0m 39ms/step - accuracy: 0.6413 - loss: 0.8887 - val_accuracy: 0.5076 - val_loss: 1.1891\n",
            "Epoch 26/40\n",
            "\u001b[1m211/211\u001b[0m \u001b[32m━━━━━━━━━━━━━━━━━━━━\u001b[0m\u001b[37m\u001b[0m \u001b[1m10s\u001b[0m 38ms/step - accuracy: 0.6605 - loss: 0.8653 - val_accuracy: 0.4978 - val_loss: 1.2706\n",
            "Epoch 27/40\n",
            "\u001b[1m211/211\u001b[0m \u001b[32m━━━━━━━━━━━━━━━━━━━━\u001b[0m\u001b[37m\u001b[0m \u001b[1m10s\u001b[0m 44ms/step - accuracy: 0.6751 - loss: 0.8493 - val_accuracy: 0.4891 - val_loss: 1.1832\n",
            "Epoch 28/40\n",
            "\u001b[1m211/211\u001b[0m \u001b[32m━━━━━━━━━━━━━━━━━━━━\u001b[0m\u001b[37m\u001b[0m \u001b[1m10s\u001b[0m 44ms/step - accuracy: 0.6633 - loss: 0.8564 - val_accuracy: 0.5685 - val_loss: 1.1028\n",
            "Epoch 29/40\n",
            "\u001b[1m211/211\u001b[0m \u001b[32m━━━━━━━━━━━━━━━━━━━━\u001b[0m\u001b[37m\u001b[0m \u001b[1m9s\u001b[0m 40ms/step - accuracy: 0.6797 - loss: 0.8578 - val_accuracy: 0.5391 - val_loss: 1.1441\n",
            "Epoch 30/40\n",
            "\u001b[1m211/211\u001b[0m \u001b[32m━━━━━━━━━━━━━━━━━━━━\u001b[0m\u001b[37m\u001b[0m \u001b[1m9s\u001b[0m 40ms/step - accuracy: 0.6837 - loss: 0.8179 - val_accuracy: 0.4935 - val_loss: 1.2294\n",
            "Epoch 31/40\n",
            "\u001b[1m211/211\u001b[0m \u001b[32m━━━━━━━━━━━━━━━━━━━━\u001b[0m\u001b[37m\u001b[0m \u001b[1m9s\u001b[0m 44ms/step - accuracy: 0.6830 - loss: 0.8162 - val_accuracy: 0.5174 - val_loss: 1.2184\n",
            "Epoch 32/40\n",
            "\u001b[1m211/211\u001b[0m \u001b[32m━━━━━━━━━━━━━━━━━━━━\u001b[0m\u001b[37m\u001b[0m \u001b[1m10s\u001b[0m 44ms/step - accuracy: 0.7007 - loss: 0.8057 - val_accuracy: 0.5641 - val_loss: 1.1241\n",
            "Epoch 33/40\n",
            "\u001b[1m211/211\u001b[0m \u001b[32m━━━━━━━━━━━━━━━━━━━━\u001b[0m\u001b[37m\u001b[0m \u001b[1m8s\u001b[0m 38ms/step - accuracy: 0.6779 - loss: 0.8278 - val_accuracy: 0.5859 - val_loss: 1.1285\n",
            "Epoch 34/40\n",
            "\u001b[1m211/211\u001b[0m \u001b[32m━━━━━━━━━━━━━━━━━━━━\u001b[0m\u001b[37m\u001b[0m \u001b[1m10s\u001b[0m 38ms/step - accuracy: 0.6889 - loss: 0.8170 - val_accuracy: 0.5174 - val_loss: 1.1292\n",
            "Epoch 35/40\n",
            "\u001b[1m211/211\u001b[0m \u001b[32m━━━━━━━━━━━━━━━━━━━━\u001b[0m\u001b[37m\u001b[0m \u001b[1m9s\u001b[0m 44ms/step - accuracy: 0.6879 - loss: 0.8018 - val_accuracy: 0.5272 - val_loss: 1.2029\n",
            "Epoch 36/40\n",
            "\u001b[1m211/211\u001b[0m \u001b[32m━━━━━━━━━━━━━━━━━━━━\u001b[0m\u001b[37m\u001b[0m \u001b[1m9s\u001b[0m 43ms/step - accuracy: 0.7138 - loss: 0.7614 - val_accuracy: 0.5402 - val_loss: 1.1771\n",
            "Epoch 37/40\n",
            "\u001b[1m211/211\u001b[0m \u001b[32m━━━━━━━━━━━━━━━━━━━━\u001b[0m\u001b[37m\u001b[0m \u001b[1m9s\u001b[0m 39ms/step - accuracy: 0.7018 - loss: 0.7758 - val_accuracy: 0.5261 - val_loss: 1.1209\n",
            "Epoch 38/40\n",
            "\u001b[1m211/211\u001b[0m \u001b[32m━━━━━━━━━━━━━━━━━━━━\u001b[0m\u001b[37m\u001b[0m \u001b[1m10s\u001b[0m 38ms/step - accuracy: 0.7042 - loss: 0.7741 - val_accuracy: 0.5609 - val_loss: 1.1306\n",
            "Epoch 39/40\n",
            "\u001b[1m211/211\u001b[0m \u001b[32m━━━━━━━━━━━━━━━━━━━━\u001b[0m\u001b[37m\u001b[0m \u001b[1m9s\u001b[0m 43ms/step - accuracy: 0.6903 - loss: 0.8008 - val_accuracy: 0.5609 - val_loss: 1.0749\n",
            "Epoch 40/40\n",
            "\u001b[1m211/211\u001b[0m \u001b[32m━━━━━━━━━━━━━━━━━━━━\u001b[0m\u001b[37m\u001b[0m \u001b[1m9s\u001b[0m 44ms/step - accuracy: 0.6963 - loss: 0.7685 - val_accuracy: 0.5793 - val_loss: 1.1589\n"
          ]
        }
      ]
    },
    {
      "cell_type": "markdown",
      "metadata": {
        "id": "ttqZa25BVDeR"
      },
      "source": [
        "As our model trained, it told us a few things. The most important things to us are:\n",
        "* how accurate it was when training on the training set (reported as `acc`)\n",
        "* how accurate it was on the test set (reported as `val_acc`)\n"
      ]
    },
    {
      "cell_type": "markdown",
      "metadata": {
        "id": "rsOkqi035XRE"
      },
      "source": [
        "We can actually plot how how well our model did across epochs using the model's `history`!\n",
        "To do this, we call:\n",
        "```\n",
        "plot_acc(history)\n",
        "```\n",
        "\n",
        "Try `plot_acc` below!"
      ]
    },
    {
      "cell_type": "code",
      "metadata": {
        "id": "xvhyL-jJ9rKt",
        "colab": {
          "base_uri": "https://localhost:8080/",
          "height": 455
        },
        "outputId": "cb8ea916-2b32-4f9c-94f4-9d0f5faa8181"
      },
      "source": [
        "### YOUR CODE HERE\n",
        "plot_acc(history)\n",
        "### END CODE"
      ],
      "execution_count": 28,
      "outputs": [
        {
          "output_type": "display_data",
          "data": {
            "text/plain": [
              "<Figure size 640x480 with 1 Axes>"
            ],
            "image/png": "[encoded data removed]"
          },
          "metadata": {}
        }
      ]
    },
    {
      "cell_type": "markdown",
      "metadata": {
        "id": "uofnvxpz-qdI"
      },
      "source": [
        "## Instructor-Led Discussion\n",
        "\n",
        "Is this a good model? Does your model overfit? How do you know?"
      ]
    },
    {
      "cell_type": "markdown",
      "metadata": {
        "id": "g9CmrRkgT5ZS"
      },
      "source": [
        "# Milestone 3. Exploring Convolutional Neural Networks"
      ]
    },
    {
      "cell_type": "markdown",
      "metadata": {
        "id": "RehfGJJWZFeG"
      },
      "source": [
        "So, how is a convolutional neural network specified in tensorflow/keras? Let's walk through this!"
      ]
    },
    {
      "cell_type": "markdown",
      "metadata": {
        "id": "orX1T8VVqYo1"
      },
      "source": [
        "### Exercise (Coding)\n"
      ]
    },
    {
      "cell_type": "markdown",
      "metadata": {
        "id": "LMi7nEjaIeN4"
      },
      "source": [
        "Our convolutional neural network is specified via:\n",
        "\n",
        "```\n",
        "cnn = Sequential()\n",
        "cnn.add(Conv2D(64, (3, 3), input_shape=(__, __, __)))\n",
        "cnn.add(Activation('relu'))\n",
        "cnn.add(MaxPooling2D(pool_size=(2, 2)))\n",
        "cnn.add(Flatten())\n",
        "cnn.add(Dense(units = 128, activation = 'relu'))\n",
        "cnn.add(Dense(units = NUM_OUTPUTS, activation = 'softmax'))\n",
        "```\n",
        "\n",
        "And compiled with:\n",
        "\n",
        "```\n",
        "cnn.compile(loss=__, optimizer=__, metrics=__)\n",
        "```\n",
        "\n",
        "We see that we have 1 convolution layer that takes in our inputs, and then 2 dense layers. Overall this is a 3 layer network.\n",
        "\n",
        "After specifying the network, we can compile it and train it just like before! Note:\n",
        "* we want our `loss` to be `'categorical_crossentropy'`\n",
        "* our `optimizer` will be  `optimizers.SGD(learning_rate=1e-3, momentum=0.95)`\n",
        "* our `metrics` are `['accuracy']`"
      ]
    },
    {
      "cell_type": "code",
      "metadata": {
        "id": "vNDBeK9K2ZzU",
        "colab": {
          "base_uri": "https://localhost:8080/"
        },
        "outputId": "ada3e955-1cd9-4709-d51b-3c2ab27a0452"
      },
      "source": [
        "### YOUR CODE HERE - build and compile your cnn (hint: see above and fill in the blanks!)\n",
        "# specify the network\n",
        "\n",
        "cnn = Sequential()\n",
        "cnn.add(Conv2D(64, (3, 3), input_shape=(64, 64, 3)))\n",
        "cnn.add(Activation('relu'))\n",
        "cnn.add(MaxPooling2D(pool_size=(2, 2)))\n",
        "cnn.add(Flatten())\n",
        "cnn.add(Dense(units = 128, activation = 'relu'))\n",
        "cnn.add(Dense(units = 4, activation = 'softmax'))\n",
        "\n",
        "\n",
        "# compile the network\n",
        "\n",
        "cnn.compile(loss='categorical_crossentropy', optimizer=optimizers.SGD(learning_rate=1e-3, momentum=0.95), metrics=[\"accuracy\"])\n",
        "\n",
        "### END CODE"
      ],
      "execution_count": 29,
      "outputs": [
        {
          "output_type": "stream",
          "name": "stderr",
          "text": [
            "/usr/local/lib/python3.10/dist-packages/keras/src/layers/convolutional/base_conv.py:107: UserWarning: Do not pass an `input_shape`/`input_dim` argument to a layer. When using Sequential models, prefer using an `Input(shape)` object as the first layer in the model instead.\n",
            "  super().__init__(activity_regularizer=activity_regularizer, **kwargs)\n"
          ]
        }
      ]
    },
    {
      "cell_type": "markdown",
      "metadata": {
        "id": "s858q9Nd4vk-"
      },
      "source": [
        "Once we've compiled the network, train it for about 50 epochs (Or less, it's up to you!).\n",
        "Remember how you did this for the MLP (`model_2`)? Also, don't forget to use data augmentation!\n",
        "\n"
      ]
    },
    {
      "cell_type": "code",
      "metadata": {
        "id": "_HTn3r594KWZ",
        "colab": {
          "base_uri": "https://localhost:8080/"
        },
        "outputId": "ce11c645-14dc-4493-9250-3cc571083242"
      },
      "source": [
        "### YOUR CODE HERE\n",
        "\n",
        "# Define our monitor. Don't worry about the parameters here except for './model.h5',\n",
        "# which is the file that our model saves to.\n",
        "monitor = ModelCheckpoint('./model.keras', monitor='val_loss', verbose=0,\n",
        "                          save_best_only=True, save_weights_only=False,\n",
        "                          mode='auto', save_freq='epoch')\n",
        "\n",
        "# Create an instance of ImageDataGenerator for data augmentation\n",
        "data_augmentation = ImageDataGenerator(\n",
        "    rotation_range=10,  # Rotate images randomly up to 10 degrees\n",
        "    width_shift_range=0.1,  # Shift images horizontally by a fraction of the width\n",
        "    height_shift_range=0.1,  # Shift images vertically by a fraction of the height\n",
        "    shear_range=0.2,  # Apply shear transformation with a shear angle up to 20 degrees\n",
        "    zoom_range=0.2,  # Randomly zoom images by a factor up to 20%\n",
        "    horizontal_flip=True,  # Flip images horizontally\n",
        "    fill_mode='nearest'  # Fill in newly created pixels after rotation or shifting\n",
        ")\n",
        "\n",
        "### YOUR CODE HERE (get the train data and test data!)\n",
        "\n",
        "X_train, y_train = get_train_data()\n",
        "X_test, y_test = get_test_data()\n",
        "\n",
        "\n",
        "\n",
        "### END CODE\n",
        "\n",
        "# Reshape the data\n",
        "X_train = X_train.reshape([-1, 64, 64, 3])\n",
        "X_test = X_test.reshape([-1, 64, 64, 3])\n",
        "\n",
        "# Convert string labels into numpy arrays.\n",
        "y_train = label_to_numpy(y_train)\n",
        "y_test = label_to_numpy(y_test)\n",
        "\n",
        "### YOUR CODE HERE (fit your model!)\n",
        "history = cnn.fit(data_augmentation.flow(X_train, y_train, batch_size=32), epochs = 50, validation_data = (X_test, y_test), shuffle = True, callbacks = [monitor])\n",
        "### END CODE\n",
        "\n",
        "### END CODE"
      ],
      "execution_count": 31,
      "outputs": [
        {
          "output_type": "stream",
          "name": "stdout",
          "text": [
            "Epoch 1/50\n"
          ]
        },
        {
          "output_type": "stream",
          "name": "stderr",
          "text": [
            "/usr/local/lib/python3.10/dist-packages/keras/src/trainers/data_adapters/py_dataset_adapter.py:121: UserWarning: Your `PyDataset` class should call `super().__init__(**kwargs)` in its constructor. `**kwargs` can include `workers`, `use_multiprocessing`, `max_queue_size`. Do not pass these arguments to `fit()`, as they will be ignored.\n",
            "  self._warn_if_super_not_called()\n"
          ]
        },
        {
          "output_type": "stream",
          "name": "stdout",
          "text": [
            "\u001b[1m211/211\u001b[0m \u001b[32m━━━━━━━━━━━━━━━━━━━━\u001b[0m\u001b[37m\u001b[0m \u001b[1m16s\u001b[0m 59ms/step - accuracy: 0.2877 - loss: 1.3664 - val_accuracy: 0.2587 - val_loss: 1.4373\n",
            "Epoch 2/50\n",
            "\u001b[1m211/211\u001b[0m \u001b[32m━━━━━━━━━━━━━━━━━━━━\u001b[0m\u001b[37m\u001b[0m \u001b[1m15s\u001b[0m 42ms/step - accuracy: 0.4910 - loss: 1.1808 - val_accuracy: 0.4902 - val_loss: 1.2552\n",
            "Epoch 3/50\n",
            "\u001b[1m211/211\u001b[0m \u001b[32m━━━━━━━━━━━━━━━━━━━━\u001b[0m\u001b[37m\u001b[0m \u001b[1m10s\u001b[0m 44ms/step - accuracy: 0.5752 - loss: 1.0169 - val_accuracy: 0.5880 - val_loss: 1.2552\n",
            "Epoch 4/50\n",
            "\u001b[1m211/211\u001b[0m \u001b[32m━━━━━━━━━━━━━━━━━━━━\u001b[0m\u001b[37m\u001b[0m \u001b[1m10s\u001b[0m 45ms/step - accuracy: 0.6378 - loss: 0.9154 - val_accuracy: 0.6076 - val_loss: 1.2662\n",
            "Epoch 5/50\n",
            "\u001b[1m211/211\u001b[0m \u001b[32m━━━━━━━━━━━━━━━━━━━━\u001b[0m\u001b[37m\u001b[0m \u001b[1m10s\u001b[0m 45ms/step - accuracy: 0.6761 - loss: 0.8362 - val_accuracy: 0.5685 - val_loss: 1.6364\n",
            "Epoch 6/50\n",
            "\u001b[1m211/211\u001b[0m \u001b[32m━━━━━━━━━━━━━━━━━━━━\u001b[0m\u001b[37m\u001b[0m \u001b[1m9s\u001b[0m 41ms/step - accuracy: 0.7056 - loss: 0.7804 - val_accuracy: 0.6185 - val_loss: 1.2877\n",
            "Epoch 7/50\n",
            "\u001b[1m211/211\u001b[0m \u001b[32m━━━━━━━━━━━━━━━━━━━━\u001b[0m\u001b[37m\u001b[0m \u001b[1m10s\u001b[0m 39ms/step - accuracy: 0.7361 - loss: 0.6808 - val_accuracy: 0.6185 - val_loss: 1.3474\n",
            "Epoch 8/50\n",
            "\u001b[1m211/211\u001b[0m \u001b[32m━━━━━━━━━━━━━━━━━━━━\u001b[0m\u001b[37m\u001b[0m \u001b[1m11s\u001b[0m 42ms/step - accuracy: 0.7638 - loss: 0.6279 - val_accuracy: 0.6402 - val_loss: 1.3766\n",
            "Epoch 9/50\n",
            "\u001b[1m211/211\u001b[0m \u001b[32m━━━━━━━━━━━━━━━━━━━━\u001b[0m\u001b[37m\u001b[0m \u001b[1m10s\u001b[0m 45ms/step - accuracy: 0.8029 - loss: 0.5540 - val_accuracy: 0.6196 - val_loss: 1.3965\n",
            "Epoch 10/50\n",
            "\u001b[1m211/211\u001b[0m \u001b[32m━━━━━━━━━━━━━━━━━━━━\u001b[0m\u001b[37m\u001b[0m \u001b[1m10s\u001b[0m 45ms/step - accuracy: 0.8176 - loss: 0.5160 - val_accuracy: 0.6261 - val_loss: 1.6405\n",
            "Epoch 11/50\n",
            "\u001b[1m211/211\u001b[0m \u001b[32m━━━━━━━━━━━━━━━━━━━━\u001b[0m\u001b[37m\u001b[0m \u001b[1m9s\u001b[0m 40ms/step - accuracy: 0.8293 - loss: 0.4701 - val_accuracy: 0.6370 - val_loss: 1.3865\n",
            "Epoch 12/50\n",
            "\u001b[1m211/211\u001b[0m \u001b[32m━━━━━━━━━━━━━━━━━━━━\u001b[0m\u001b[37m\u001b[0m \u001b[1m10s\u001b[0m 40ms/step - accuracy: 0.8387 - loss: 0.4447 - val_accuracy: 0.6467 - val_loss: 1.3995\n",
            "Epoch 13/50\n",
            "\u001b[1m211/211\u001b[0m \u001b[32m━━━━━━━━━━━━━━━━━━━━\u001b[0m\u001b[37m\u001b[0m \u001b[1m11s\u001b[0m 44ms/step - accuracy: 0.8475 - loss: 0.4272 - val_accuracy: 0.6467 - val_loss: 1.3902\n",
            "Epoch 14/50\n",
            "\u001b[1m211/211\u001b[0m \u001b[32m━━━━━━━━━━━━━━━━━━━━\u001b[0m\u001b[37m\u001b[0m \u001b[1m10s\u001b[0m 46ms/step - accuracy: 0.8632 - loss: 0.3788 - val_accuracy: 0.6543 - val_loss: 1.3483\n",
            "Epoch 15/50\n",
            "\u001b[1m211/211\u001b[0m \u001b[32m━━━━━━━━━━━━━━━━━━━━\u001b[0m\u001b[37m\u001b[0m \u001b[1m10s\u001b[0m 45ms/step - accuracy: 0.8635 - loss: 0.3823 - val_accuracy: 0.6533 - val_loss: 1.4531\n",
            "Epoch 16/50\n",
            "\u001b[1m211/211\u001b[0m \u001b[32m━━━━━━━━━━━━━━━━━━━━\u001b[0m\u001b[37m\u001b[0m \u001b[1m9s\u001b[0m 40ms/step - accuracy: 0.8737 - loss: 0.3531 - val_accuracy: 0.6522 - val_loss: 1.2579\n",
            "Epoch 17/50\n",
            "\u001b[1m211/211\u001b[0m \u001b[32m━━━━━━━━━━━━━━━━━━━━\u001b[0m\u001b[37m\u001b[0m \u001b[1m10s\u001b[0m 47ms/step - accuracy: 0.8879 - loss: 0.3239 - val_accuracy: 0.6652 - val_loss: 1.1933\n",
            "Epoch 18/50\n",
            "\u001b[1m211/211\u001b[0m \u001b[32m━━━━━━━━━━━━━━━━━━━━\u001b[0m\u001b[37m\u001b[0m \u001b[1m10s\u001b[0m 45ms/step - accuracy: 0.8942 - loss: 0.3069 - val_accuracy: 0.6543 - val_loss: 1.3342\n",
            "Epoch 19/50\n",
            "\u001b[1m211/211\u001b[0m \u001b[32m━━━━━━━━━━━━━━━━━━━━\u001b[0m\u001b[37m\u001b[0m \u001b[1m10s\u001b[0m 45ms/step - accuracy: 0.8987 - loss: 0.2933 - val_accuracy: 0.6630 - val_loss: 1.3928\n",
            "Epoch 20/50\n",
            "\u001b[1m211/211\u001b[0m \u001b[32m━━━━━━━━━━━━━━━━━━━━\u001b[0m\u001b[37m\u001b[0m \u001b[1m9s\u001b[0m 40ms/step - accuracy: 0.9019 - loss: 0.2710 - val_accuracy: 0.6370 - val_loss: 1.4756\n",
            "Epoch 21/50\n",
            "\u001b[1m211/211\u001b[0m \u001b[32m━━━━━━━━━━━━━━━━━━━━\u001b[0m\u001b[37m\u001b[0m \u001b[1m10s\u001b[0m 40ms/step - accuracy: 0.9039 - loss: 0.2714 - val_accuracy: 0.6674 - val_loss: 1.2817\n",
            "Epoch 22/50\n",
            "\u001b[1m211/211\u001b[0m \u001b[32m━━━━━━━━━━━━━━━━━━━━\u001b[0m\u001b[37m\u001b[0m \u001b[1m11s\u001b[0m 45ms/step - accuracy: 0.9054 - loss: 0.2713 - val_accuracy: 0.6207 - val_loss: 1.6816\n",
            "Epoch 23/50\n",
            "\u001b[1m211/211\u001b[0m \u001b[32m━━━━━━━━━━━━━━━━━━━━\u001b[0m\u001b[37m\u001b[0m \u001b[1m10s\u001b[0m 46ms/step - accuracy: 0.9026 - loss: 0.2797 - val_accuracy: 0.5935 - val_loss: 1.5359\n",
            "Epoch 24/50\n",
            "\u001b[1m211/211\u001b[0m \u001b[32m━━━━━━━━━━━━━━━━━━━━\u001b[0m\u001b[37m\u001b[0m \u001b[1m10s\u001b[0m 46ms/step - accuracy: 0.9164 - loss: 0.2527 - val_accuracy: 0.6609 - val_loss: 1.5870\n",
            "Epoch 25/50\n",
            "\u001b[1m211/211\u001b[0m \u001b[32m━━━━━━━━━━━━━━━━━━━━\u001b[0m\u001b[37m\u001b[0m \u001b[1m9s\u001b[0m 39ms/step - accuracy: 0.9198 - loss: 0.2426 - val_accuracy: 0.6598 - val_loss: 1.5861\n",
            "Epoch 26/50\n",
            "\u001b[1m211/211\u001b[0m \u001b[32m━━━━━━━━━━━━━━━━━━━━\u001b[0m\u001b[37m\u001b[0m \u001b[1m10s\u001b[0m 45ms/step - accuracy: 0.9237 - loss: 0.2315 - val_accuracy: 0.6739 - val_loss: 1.3479\n",
            "Epoch 27/50\n",
            "\u001b[1m211/211\u001b[0m \u001b[32m━━━━━━━━━━━━━━━━━━━━\u001b[0m\u001b[37m\u001b[0m \u001b[1m10s\u001b[0m 47ms/step - accuracy: 0.9274 - loss: 0.2070 - val_accuracy: 0.6696 - val_loss: 1.5705\n",
            "Epoch 28/50\n",
            "\u001b[1m211/211\u001b[0m \u001b[32m━━━━━━━━━━━━━━━━━━━━\u001b[0m\u001b[37m\u001b[0m \u001b[1m10s\u001b[0m 45ms/step - accuracy: 0.9269 - loss: 0.2163 - val_accuracy: 0.6522 - val_loss: 1.4138\n",
            "Epoch 29/50\n",
            "\u001b[1m211/211\u001b[0m \u001b[32m━━━━━━━━━━━━━━━━━━━━\u001b[0m\u001b[37m\u001b[0m \u001b[1m9s\u001b[0m 39ms/step - accuracy: 0.9299 - loss: 0.2064 - val_accuracy: 0.6815 - val_loss: 1.4300\n",
            "Epoch 30/50\n",
            "\u001b[1m211/211\u001b[0m \u001b[32m━━━━━━━━━━━━━━━━━━━━\u001b[0m\u001b[37m\u001b[0m \u001b[1m10s\u001b[0m 45ms/step - accuracy: 0.9328 - loss: 0.1991 - val_accuracy: 0.6511 - val_loss: 1.4427\n",
            "Epoch 31/50\n",
            "\u001b[1m211/211\u001b[0m \u001b[32m━━━━━━━━━━━━━━━━━━━━\u001b[0m\u001b[37m\u001b[0m \u001b[1m10s\u001b[0m 45ms/step - accuracy: 0.9368 - loss: 0.1812 - val_accuracy: 0.6772 - val_loss: 1.2682\n",
            "Epoch 32/50\n",
            "\u001b[1m211/211\u001b[0m \u001b[32m━━━━━━━━━━━━━━━━━━━━\u001b[0m\u001b[37m\u001b[0m \u001b[1m10s\u001b[0m 45ms/step - accuracy: 0.9395 - loss: 0.1844 - val_accuracy: 0.7065 - val_loss: 1.3295\n",
            "Epoch 33/50\n",
            "\u001b[1m211/211\u001b[0m \u001b[32m━━━━━━━━━━━━━━━━━━━━\u001b[0m\u001b[37m\u001b[0m \u001b[1m9s\u001b[0m 40ms/step - accuracy: 0.9446 - loss: 0.1742 - val_accuracy: 0.6424 - val_loss: 1.5105\n",
            "Epoch 34/50\n",
            "\u001b[1m211/211\u001b[0m \u001b[32m━━━━━━━━━━━━━━━━━━━━\u001b[0m\u001b[37m\u001b[0m \u001b[1m11s\u001b[0m 42ms/step - accuracy: 0.9380 - loss: 0.1779 - val_accuracy: 0.6576 - val_loss: 1.3333\n",
            "Epoch 35/50\n",
            "\u001b[1m211/211\u001b[0m \u001b[32m━━━━━━━━━━━━━━━━━━━━\u001b[0m\u001b[37m\u001b[0m \u001b[1m10s\u001b[0m 46ms/step - accuracy: 0.9385 - loss: 0.1767 - val_accuracy: 0.6554 - val_loss: 1.6551\n",
            "Epoch 36/50\n",
            "\u001b[1m211/211\u001b[0m \u001b[32m━━━━━━━━━━━━━━━━━━━━\u001b[0m\u001b[37m\u001b[0m \u001b[1m10s\u001b[0m 46ms/step - accuracy: 0.9448 - loss: 0.1655 - val_accuracy: 0.6435 - val_loss: 1.5351\n",
            "Epoch 37/50\n",
            "\u001b[1m211/211\u001b[0m \u001b[32m━━━━━━━━━━━━━━━━━━━━\u001b[0m\u001b[37m\u001b[0m \u001b[1m9s\u001b[0m 39ms/step - accuracy: 0.9552 - loss: 0.1524 - val_accuracy: 0.6674 - val_loss: 1.4821\n",
            "Epoch 38/50\n",
            "\u001b[1m211/211\u001b[0m \u001b[32m━━━━━━━━━━━━━━━━━━━━\u001b[0m\u001b[37m\u001b[0m \u001b[1m10s\u001b[0m 45ms/step - accuracy: 0.9475 - loss: 0.1506 - val_accuracy: 0.6609 - val_loss: 1.4104\n",
            "Epoch 39/50\n",
            "\u001b[1m211/211\u001b[0m \u001b[32m━━━━━━━━━━━━━━━━━━━━\u001b[0m\u001b[37m\u001b[0m \u001b[1m10s\u001b[0m 46ms/step - accuracy: 0.9449 - loss: 0.1585 - val_accuracy: 0.6630 - val_loss: 1.5751\n",
            "Epoch 40/50\n",
            "\u001b[1m211/211\u001b[0m \u001b[32m━━━━━━━━━━━━━━━━━━━━\u001b[0m\u001b[37m\u001b[0m \u001b[1m10s\u001b[0m 45ms/step - accuracy: 0.9567 - loss: 0.1355 - val_accuracy: 0.6815 - val_loss: 1.5092\n",
            "Epoch 41/50\n",
            "\u001b[1m211/211\u001b[0m \u001b[32m━━━━━━━━━━━━━━━━━━━━\u001b[0m\u001b[37m\u001b[0m \u001b[1m9s\u001b[0m 39ms/step - accuracy: 0.9514 - loss: 0.1491 - val_accuracy: 0.6761 - val_loss: 1.6670\n",
            "Epoch 42/50\n",
            "\u001b[1m211/211\u001b[0m \u001b[32m━━━━━━━━━━━━━━━━━━━━\u001b[0m\u001b[37m\u001b[0m \u001b[1m10s\u001b[0m 45ms/step - accuracy: 0.9504 - loss: 0.1399 - val_accuracy: 0.6728 - val_loss: 1.5326\n",
            "Epoch 43/50\n",
            "\u001b[1m211/211\u001b[0m \u001b[32m━━━━━━━━━━━━━━━━━━━━\u001b[0m\u001b[37m\u001b[0m \u001b[1m10s\u001b[0m 45ms/step - accuracy: 0.9532 - loss: 0.1389 - val_accuracy: 0.6685 - val_loss: 1.4032\n",
            "Epoch 44/50\n",
            "\u001b[1m211/211\u001b[0m \u001b[32m━━━━━━━━━━━━━━━━━━━━\u001b[0m\u001b[37m\u001b[0m \u001b[1m10s\u001b[0m 45ms/step - accuracy: 0.9604 - loss: 0.1221 - val_accuracy: 0.6293 - val_loss: 1.5939\n",
            "Epoch 45/50\n",
            "\u001b[1m211/211\u001b[0m \u001b[32m━━━━━━━━━━━━━━━━━━━━\u001b[0m\u001b[37m\u001b[0m \u001b[1m9s\u001b[0m 39ms/step - accuracy: 0.9574 - loss: 0.1328 - val_accuracy: 0.6717 - val_loss: 1.5914\n",
            "Epoch 46/50\n",
            "\u001b[1m211/211\u001b[0m \u001b[32m━━━━━━━━━━━━━━━━━━━━\u001b[0m\u001b[37m\u001b[0m \u001b[1m11s\u001b[0m 43ms/step - accuracy: 0.9533 - loss: 0.1390 - val_accuracy: 0.6783 - val_loss: 1.6043\n",
            "Epoch 47/50\n",
            "\u001b[1m211/211\u001b[0m \u001b[32m━━━━━━━━━━━━━━━━━━━━\u001b[0m\u001b[37m\u001b[0m \u001b[1m10s\u001b[0m 46ms/step - accuracy: 0.9606 - loss: 0.1131 - val_accuracy: 0.6717 - val_loss: 1.7293\n",
            "Epoch 48/50\n",
            "\u001b[1m211/211\u001b[0m \u001b[32m━━━━━━━━━━━━━━━━━━━━\u001b[0m\u001b[37m\u001b[0m \u001b[1m10s\u001b[0m 45ms/step - accuracy: 0.9590 - loss: 0.1246 - val_accuracy: 0.6804 - val_loss: 1.6888\n",
            "Epoch 49/50\n",
            "\u001b[1m211/211\u001b[0m \u001b[32m━━━━━━━━━━━━━━━━━━━━\u001b[0m\u001b[37m\u001b[0m \u001b[1m9s\u001b[0m 41ms/step - accuracy: 0.9497 - loss: 0.1357 - val_accuracy: 0.6707 - val_loss: 1.5810\n",
            "Epoch 50/50\n",
            "\u001b[1m211/211\u001b[0m \u001b[32m━━━━━━━━━━━━━━━━━━━━\u001b[0m\u001b[37m\u001b[0m \u001b[1m10s\u001b[0m 44ms/step - accuracy: 0.9605 - loss: 0.1183 - val_accuracy: 0.6707 - val_loss: 1.8600\n"
          ]
        }
      ]
    },
    {
      "cell_type": "markdown",
      "metadata": {
        "id": "ic7tsMlm4whB"
      },
      "source": [
        "And see how well it did! Let's visualize the training and validation accuracy again."
      ]
    },
    {
      "cell_type": "code",
      "metadata": {
        "id": "7jZAgQbM4nmg",
        "colab": {
          "base_uri": "https://localhost:8080/",
          "height": 455
        },
        "outputId": "b685b4fe-f410-4004-cd1f-5e46015deb22"
      },
      "source": [
        "### YOUR CODE HERE\n",
        "\n",
        "plot_acc(history)\n",
        "\n",
        "### END CODE"
      ],
      "execution_count": 32,
      "outputs": [
        {
          "output_type": "display_data",
          "data": {
            "text/plain": [
              "<Figure size 640x480 with 1 Axes>"
            ],
            "image/png": "[encoded data removed]"
          },
          "metadata": {}
        }
      ]
    },
    {
      "cell_type": "markdown",
      "metadata": {
        "id": "A7R8Mlgzl8wY"
      },
      "source": [
        "**Nice training accuracy! Does the model still overfit?**\n",
        "\n",
        "*(Optional:)* Re-initialize your CNN and train it on a smaller number of epochs. What do you observe?"
      ]
    },
    {
      "cell_type": "markdown",
      "metadata": {
        "id": "G5scKiYAYE8g"
      },
      "source": [
        "\n",
        "# Milestone 4. Expert models: Transfer learning"
      ]
    },
    {
      "cell_type": "markdown",
      "metadata": {
        "id": "laXN17IK23GY"
      },
      "source": [
        "So far, we've used models that were built from 'scratch'. Unfortunately, our training data is small relative to the amount of data available in the real world, so just training on our dataset is going to be inherently limited.\n",
        "\n",
        "Luckily, there are **expert models**, or state-of-the-art models that have been trained by the world's top researchers! While these expert models haven't trained on our training data, they have trained extensively on larger datasets. We can input our data and reasonably expect that they will pick up our task fairly quickly.\n",
        "\n",
        "In deep learning, the idea of using a model trained on another task as a starting point for your model is known as **transfer learning**."
      ]
    },
    {
      "cell_type": "markdown",
      "metadata": {
        "id": "FybhlxdVYFbv"
      },
      "source": [
        "## Activity 4a. Transfer Learning for Distracted Driving\n"
      ]
    },
    {
      "cell_type": "markdown",
      "metadata": {
        "id": "DChmzlt3ARPy"
      },
      "source": [
        "### Instructor-Led Discussion"
      ]
    },
    {
      "cell_type": "markdown",
      "metadata": {
        "id": "lFtHOYI2AdSs"
      },
      "source": [
        "For our transfer learning, we're going to use expert models built upon the famous 'ImageNet' classification problem.\n",
        "\n",
        "In ImageNet, participants were challenged to build machine learning models that could distinguish 14 million images' categories, where there were > 20,000 categories available.\n",
        "\n",
        "Below, we see examples of 4 different categories.\n",
        "\n",
        "![](http://cs231n.github.io/assets/trainset.jpg)\n",
        "\n"
      ]
    },
    {
      "cell_type": "markdown",
      "metadata": {
        "id": "J-E_AiG-CFj0"
      },
      "source": [
        "One of the experts we can use is VGG16. VGG16 is a specific convolutional neural network that was allowed to study the 14 million images 74 times. *(Read more about VGG16 [here!](https://neurohive.io/en/popular-networks/vgg16/))*\n",
        "\n",
        "After training, VGG16 was able to guess something close to the real label (top-5 accuracy) better than a human can."
      ]
    },
    {
      "cell_type": "markdown",
      "metadata": {
        "id": "IvkajtdHAbzL"
      },
      "source": [
        "![](https://cdn-images-1.medium.com/max/1600/0*V1muWIDnPVwZUuEv.png)"
      ]
    },
    {
      "cell_type": "markdown",
      "metadata": {
        "id": "Vwj8o5X3D325"
      },
      "source": [
        "We're going to take an expert model like VGG16 and let it train on OUR images. Hopefully, its experience training on those 14 million images will help it understand distracted driving!"
      ]
    },
    {
      "cell_type": "markdown",
      "metadata": {
        "id": "g-357WWC7qJJ"
      },
      "source": [
        "### Exercise (Coding) | Within a student group"
      ]
    },
    {
      "cell_type": "markdown",
      "metadata": {
        "id": "uz_mVsECHvro"
      },
      "source": [
        "Let's tap an expert model to help us out with our distracted driving prediction!\n",
        "\n",
        "We provide a wrapper that lets you 'call' up and employ expert models. You can call it like...\n",
        "\n",
        "```\n",
        "transfer = TransferClassifier(name = 'VGG16')\n",
        "```\n",
        "\n",
        "The wrapper will also add a few new layers to the model that can learn specifics about **our task**.\n",
        "\n",
        "\n",
        "The experts we have on hand are:\n",
        "* `VGG16`\n",
        "* `VGG19`\n",
        "* `ResNet50`\n",
        "* `DenseNet121`\n",
        "\n"
      ]
    },
    {
      "cell_type": "markdown",
      "metadata": {
        "id": "9ye0v5CrJBvs"
      },
      "source": [
        "Afterwards, see if you can get 85% accuracy with your model! Try it with and without data augmentation and see how different it preforms."
      ]
    },
    {
      "cell_type": "code",
      "metadata": {
        "id": "0VB79BCx7tvg",
        "colab": {
          "base_uri": "https://localhost:8080/"
        },
        "outputId": "931f78cd-715f-4e15-ee1b-8d5408feb272"
      },
      "source": [
        "# As always, we get our data first\n",
        "(X_train, y_train) = get_train_data(flatten=True)\n",
        "(X_test, y_test) = get_test_data(flatten=True)\n",
        "\n",
        "X_train = X_train.reshape([-1, 64, 64, 3])\n",
        "X_test = X_test.reshape([-1, 64, 64, 3])\n",
        "\n",
        "y_train = label_to_numpy(y_train)\n",
        "y_test = label_to_numpy(y_test)\n",
        "\n",
        "### YOUR CODE HERE\n",
        "\n",
        "transfer = TransferClassifier(name = 'VGG16')\n",
        "\n",
        "history = transfer.fit(data_augmentation.flow(X_train, y_train, batch_size=32), epochs = 30, validation_data = (X_test, y_test), shuffle = True, callbacks = [monitor])\n",
        "\n",
        "\n",
        "plot_acc(history)\n",
        "\n",
        "\n",
        "\n",
        "\n",
        "\n",
        "### END CODE"
      ],
      "execution_count": null,
      "outputs": [
        {
          "metadata": {
            "tags": null
          },
          "name": "stdout",
          "output_type": "stream",
          "text": [
            "Downloading data from https://storage.googleapis.com/tensorflow/keras-applications/vgg16/vgg16_weights_tf_dim_ordering_tf_kernels_notop.h5\n",
            "\u001b[1m       0/58889256\u001b[0m \u001b[37m━━━━━━━━━━━━━━━━━━━━\u001b[0m \u001b[1m0s\u001b[0m 0s/step"
          ]
        },
        {
          "metadata": {
            "tags": null
          },
          "name": "stderr",
          "output_type": "stream",
          "text": [
            "<ipython-input-9-351802eb2f1e>:142: DeprecationWarning: `product` is deprecated as of NumPy 1.25.0, and will be removed in NumPy 2.0. Please use `prod` instead.\n",
            "  return get_data_split('train', flatten, all_data, metadata, image_shape)\n",
            "<ipython-input-9-351802eb2f1e>:145: DeprecationWarning: `product` is deprecated as of NumPy 1.25.0, and will be removed in NumPy 2.0. Please use `prod` instead.\n",
            "  return get_data_split('test', flatten, all_data, metadata, image_shape)\n"
          ]
        },
        {
          "metadata": {
            "tags": null
          },
          "name": "stdout",
          "output_type": "stream",
          "text": [
            "\u001b[1m58889256/58889256\u001b[0m \u001b[32m━━━━━━━━━━━━━━━━━━━━\u001b[0m\u001b[37m\u001b[0m \u001b[1m0s\u001b[0m 0us/step\n",
            "Epoch 1/30\n"
          ]
        },
        {
          "metadata": {
            "tags": null
          },
          "name": "stderr",
          "output_type": "stream",
          "text": [
            "/usr/local/lib/python3.10/dist-packages/keras/src/trainers/data_adapters/py_dataset_adapter.py:121: UserWarning: Your `PyDataset` class should call `super().__init__(**kwargs)` in its constructor. `**kwargs` can include `workers`, `use_multiprocessing`, `max_queue_size`. Do not pass these arguments to `fit()`, as they will be ignored.\n",
            "  self._warn_if_super_not_called()\n"
          ]
        },
        {
          "output_type": "stream",
          "name": "stdout",
          "text": [
            "\u001b[1m211/211\u001b[0m \u001b[32m━━━━━━━━━━━━━━━━━━━━\u001b[0m\u001b[37m\u001b[0m \u001b[1m34s\u001b[0m 112ms/step - accuracy: 0.3544 - loss: 1.3276 - val_accuracy: 0.4587 - val_loss: 1.4149\n",
            "Epoch 2/30\n",
            "\u001b[1m211/211\u001b[0m \u001b[32m━━━━━━━━━━━━━━━━━━━━\u001b[0m\u001b[37m\u001b[0m \u001b[1m14s\u001b[0m 66ms/step - accuracy: 0.7597 - loss: 0.5963 - val_accuracy: 0.6196 - val_loss: 1.4125\n",
            "Epoch 3/30\n",
            "\u001b[1m211/211\u001b[0m \u001b[32m━━━━━━━━━━━━━━━━━━━━\u001b[0m\u001b[37m\u001b[0m \u001b[1m15s\u001b[0m 69ms/step - accuracy: 0.9020 - loss: 0.2963 - val_accuracy: 0.7413 - val_loss: 0.7540\n",
            "Epoch 4/30\n",
            "\u001b[1m211/211\u001b[0m \u001b[32m━━━━━━━━━━━━━━━━━━━━\u001b[0m\u001b[37m\u001b[0m \u001b[1m15s\u001b[0m 69ms/step - accuracy: 0.9339 - loss: 0.2055 - val_accuracy: 0.7717 - val_loss: 0.7024\n",
            "Epoch 5/30\n",
            "\u001b[1m211/211\u001b[0m \u001b[32m━━━━━━━━━━━━━━━━━━━━\u001b[0m\u001b[37m\u001b[0m \u001b[1m15s\u001b[0m 68ms/step - accuracy: 0.9398 - loss: 0.1783 - val_accuracy: 0.8446 - val_loss: 0.6253\n",
            "Epoch 6/30\n",
            "\u001b[1m211/211\u001b[0m \u001b[32m━━━━━━━━━━━━━━━━━━━━\u001b[0m\u001b[37m\u001b[0m \u001b[1m15s\u001b[0m 69ms/step - accuracy: 0.9632 - loss: 0.1177 - val_accuracy: 0.8543 - val_loss: 0.5725\n",
            "Epoch 7/30\n",
            "\u001b[1m211/211\u001b[0m \u001b[32m━━━━━━━━━━━━━━━━━━━━\u001b[0m\u001b[37m\u001b[0m \u001b[1m15s\u001b[0m 70ms/step - accuracy: 0.9650 - loss: 0.1205 - val_accuracy: 0.8228 - val_loss: 0.5462\n",
            "Epoch 8/30\n",
            "\u001b[1m211/211\u001b[0m \u001b[32m━━━━━━━━━━━━━━━━━━━━\u001b[0m\u001b[37m\u001b[0m \u001b[1m14s\u001b[0m 67ms/step - accuracy: 0.9711 - loss: 0.0903 - val_accuracy: 0.8576 - val_loss: 0.5081\n",
            "Epoch 9/30\n",
            "\u001b[1m211/211\u001b[0m \u001b[32m━━━━━━━━━━━━━━━━━━━━\u001b[0m\u001b[37m\u001b[0m \u001b[1m20s\u001b[0m 65ms/step - accuracy: 0.9791 - loss: 0.0676 - val_accuracy: 0.8620 - val_loss: 0.6570\n",
            "Epoch 10/30\n",
            "\u001b[1m211/211\u001b[0m \u001b[32m━━━━━━━━━━━━━━━━━━━━\u001b[0m\u001b[37m\u001b[0m \u001b[1m20s\u001b[0m 65ms/step - accuracy: 0.9778 - loss: 0.0827 - val_accuracy: 0.8587 - val_loss: 0.7136\n",
            "Epoch 11/30\n",
            "\u001b[1m195/211\u001b[0m \u001b[32m━━━━━━━━━━━━━━━━━━\u001b[0m\u001b[37m━━\u001b[0m \u001b[1m1s\u001b[0m 63ms/step - accuracy: 0.9812 - loss: 0.0618"
          ]
        }
      ]
    },
    {
      "cell_type": "markdown",
      "metadata": {
        "id": "buizA9EUYG5_"
      },
      "source": [
        "\n",
        "## (Optional) Activity 4b. Transfer learning in tensorflow/keras"
      ]
    },
    {
      "cell_type": "markdown",
      "metadata": {
        "id": "BGcLFbq28GA6"
      },
      "source": [
        "If you want to see how to implement transfer learning in tensorflow/keras, you can try this exercise!"
      ]
    },
    {
      "cell_type": "markdown",
      "metadata": {
        "id": "B5hq6cYOYHq_"
      },
      "source": [
        "\n",
        "### Exercise (Coding) | Within a student group\n"
      ]
    },
    {
      "cell_type": "markdown",
      "metadata": {
        "id": "euLIWetzEclz"
      },
      "source": [
        "First, let's import VGG16's architecture from `tensorflow.keras`."
      ]
    },
    {
      "cell_type": "code",
      "metadata": {
        "id": "bLIe66rQJTua"
      },
      "source": [
        "from tensorflow.keras.applications.vgg16 import VGG16"
      ],
      "execution_count": null,
      "outputs": []
    },
    {
      "cell_type": "markdown",
      "metadata": {
        "id": "cMTOXiLXE0OX"
      },
      "source": [
        "Let's now load up VGG16. We only want the convolutional layers of the model - that is, the layers that are most responsible for giving the model its visual understanding. The 'Dense/Fully Connected (FC)' layers are thought to be more specific to the ImageNet challenge."
      ]
    },
    {
      "cell_type": "code",
      "metadata": {
        "id": "fvIzSJ6_FONj"
      },
      "source": [
        "# Load the VGG architecture but do not include the FC layers\n",
        "vgg_expert = VGG16(weights = 'imagenet', include_top = False, input_shape = (64, 64, 3))"
      ],
      "execution_count": null,
      "outputs": []
    },
    {
      "cell_type": "markdown",
      "metadata": {
        "id": "5XyVd6o6FsRX"
      },
      "source": [
        "Now, we're going to plug the VGG into a custom model. to do this, we do the following:"
      ]
    },
    {
      "cell_type": "code",
      "metadata": {
        "id": "EMzqTaE7F25Q"
      },
      "source": [
        "# We add the first 12 layers of VGG to our own model: vgg_model\n",
        "vgg_model = Sequential()\n",
        "vgg_model.add(vgg_expert)"
      ],
      "execution_count": null,
      "outputs": []
    },
    {
      "cell_type": "markdown",
      "metadata": {
        "id": "y5oAm86oF63h"
      },
      "source": [
        "We want to add custom layers to our model... specifically,\n",
        "* `GlobalAveragePooling2D() # helps our vgg expert`\n",
        "* `Dense(1024, activation = 'relu') # we've seen dense before!`\n",
        "* `Dropout(0.3) # we've experimented with dropout before!`\n",
        "* `Dense(512, activation = 'relu')`\n",
        "* `Dropout(0.3)`\n",
        "* `Dense(4, activation = 'softmax') # our output layer!`"
      ]
    },
    {
      "cell_type": "markdown",
      "metadata": {
        "id": "lL6rdBDsGtOe"
      },
      "source": [
        "### Instructor-Led Discussion: Why do we add these layers to the end of the network?"
      ]
    },
    {
      "cell_type": "code",
      "metadata": {
        "id": "VpDt946zGhCZ"
      },
      "source": [
        "# Then we add our own layers on top of our vgg_model\n",
        "### YOUR CODE HERE\n",
        "\n",
        "vgg_model.add(Dense(1024, activation = 'relu'))\n",
        "vgg_model.add(Dropout(0.3))\n",
        "\n",
        "vgg_model.add(Dense(512, activation = 'relu'))\n",
        "vgg_model.add(Dropout(0.6))\n",
        "\n",
        "\n",
        "vgg_model.add(Dense(256, activation = 'relu'))\n",
        "vgg_model.add(Dropout(0.4))\n",
        "\n",
        "vgg_model.add(Dense(128, activation = 'relu'))\n",
        "vgg_model.add(Dropout(0.4))\n",
        "\n",
        "\n",
        "vgg_model.add(Dense(64, activation = 'relu'))\n",
        "vgg_model.add(Dropout(0.3))\n",
        "\n",
        "vgg_model.add(Dense(32, activation = 'relu'))\n",
        "vgg_model.add(Dropout(0.3))\n",
        "\n",
        "\n",
        "vgg_model.add(Dense(4, activation = 'softmax'))\n",
        "\n",
        "\n",
        "### END CODE"
      ],
      "execution_count": null,
      "outputs": []
    },
    {
      "cell_type": "markdown",
      "metadata": {
        "id": "ZJrK16jvGlMK"
      },
      "source": [
        "And finally compile it with\n",
        "* loss: `categorical_crossentropy`\n",
        "* optimizer: `optimizers.SGD(learning_rate = 1e-4, momentum = 0.95)`\n",
        "* metrics: `accuracy`\n"
      ]
    },
    {
      "cell_type": "code",
      "metadata": {
        "id": "8SDKzK8eGxIM"
      },
      "source": [
        "# Compile our model\n",
        "### YOUR CODE HERE\n",
        "\n",
        "vgg_model.compile(loss = 'categorical_crossentropy', optimizer=optimizers.SGD(learning_rate = 1e-4, momentum = 0.95), metrics=['accuracy'])\n",
        "\n",
        "### END CODE"
      ],
      "execution_count": null,
      "outputs": []
    },
    {
      "cell_type": "markdown",
      "metadata": {
        "id": "eydWywLiG53c"
      },
      "source": [
        "Finally, train your model on the `training data`.\n"
      ]
    },
    {
      "cell_type": "code",
      "metadata": {
        "id": "JRpKBNUwHqEH",
        "colab": {
          "base_uri": "https://localhost:8080/",
          "height": 246
        },
        "outputId": "9f4dcc76-1f5e-4378-8590-5c07cca602a3"
      },
      "source": [
        "### YOUR CODE HERE\n",
        "\n",
        "# As always, we get our data first\n",
        "(X_train, y_train) = get_train_data(flatten=True)\n",
        "(X_test, y_test) = get_test_data(flatten=True)\n",
        "\n",
        "X_train = X_train.reshape([-1, 64, 64, 3])\n",
        "X_test = X_test.reshape([-1, 64, 64, 3])\n",
        "\n",
        "y_train = label_to_numpy(y_train)\n",
        "y_test = label_to_numpy(y_test)\n",
        "\n",
        "### YOUR CODE HERE\n",
        "\n",
        "\n",
        "history = vgg_model.fit(data_augmentation.flow(X_train, y_train, batch_size=32), epochs = 15, validation_data = (X_test, y_test), shuffle = True, callbacks = [monitor])\n",
        "\n",
        "\n",
        "\n",
        "\n",
        "\n",
        "### END CODE"
      ],
      "execution_count": null,
      "outputs": [
        {
          "output_type": "error",
          "ename": "NameError",
          "evalue": "ignored",
          "traceback": [
            "\u001b[0;31m---------------------------------------------------------------------------\u001b[0m",
            "\u001b[0;31mNameError\u001b[0m                                 Traceback (most recent call last)",
            "\u001b[0;32m<ipython-input-7-09deac558b81>\u001b[0m in \u001b[0;36m<cell line: 16>\u001b[0;34m()\u001b[0m\n\u001b[1;32m     14\u001b[0m \u001b[0;34m\u001b[0m\u001b[0m\n\u001b[1;32m     15\u001b[0m \u001b[0;34m\u001b[0m\u001b[0m\n\u001b[0;32m---> 16\u001b[0;31m \u001b[0mhistory\u001b[0m \u001b[0;34m=\u001b[0m \u001b[0mvgg_model\u001b[0m\u001b[0;34m.\u001b[0m\u001b[0mfit\u001b[0m\u001b[0;34m(\u001b[0m\u001b[0mdata_augmentation\u001b[0m\u001b[0;34m.\u001b[0m\u001b[0mflow\u001b[0m\u001b[0;34m(\u001b[0m\u001b[0mX_train\u001b[0m\u001b[0;34m,\u001b[0m \u001b[0my_train\u001b[0m\u001b[0;34m,\u001b[0m \u001b[0mbatch_size\u001b[0m\u001b[0;34m=\u001b[0m\u001b[0;36m32\u001b[0m\u001b[0;34m)\u001b[0m\u001b[0;34m,\u001b[0m \u001b[0mepochs\u001b[0m \u001b[0;34m=\u001b[0m \u001b[0;36m15\u001b[0m\u001b[0;34m,\u001b[0m \u001b[0mvalidation_data\u001b[0m \u001b[0;34m=\u001b[0m \u001b[0;34m(\u001b[0m\u001b[0mX_test\u001b[0m\u001b[0;34m,\u001b[0m \u001b[0my_test\u001b[0m\u001b[0;34m)\u001b[0m\u001b[0;34m,\u001b[0m \u001b[0mshuffle\u001b[0m \u001b[0;34m=\u001b[0m \u001b[0;32mTrue\u001b[0m\u001b[0;34m,\u001b[0m \u001b[0mcallbacks\u001b[0m \u001b[0;34m=\u001b[0m \u001b[0;34m[\u001b[0m\u001b[0mmonitor\u001b[0m\u001b[0;34m]\u001b[0m\u001b[0;34m)\u001b[0m\u001b[0;34m\u001b[0m\u001b[0;34m\u001b[0m\u001b[0m\n\u001b[0m\u001b[1;32m     17\u001b[0m \u001b[0;34m\u001b[0m\u001b[0m\n\u001b[1;32m     18\u001b[0m \u001b[0;34m\u001b[0m\u001b[0m\n",
            "\u001b[0;31mNameError\u001b[0m: name 'data_augmentation' is not defined"
          ]
        }
      ]
    },
    {
      "cell_type": "markdown",
      "metadata": {
        "id": "Mkrw6963HI1W"
      },
      "source": [
        "Use `plot_acc()` to visualize how your model did!"
      ]
    },
    {
      "cell_type": "code",
      "metadata": {
        "id": "-gpwNg62GGJs",
        "colab": {
          "base_uri": "https://localhost:8080/",
          "height": 455
        },
        "outputId": "5bac4e4e-91e1-4c77-81a2-76175d2e8d21"
      },
      "source": [
        "### YOUR CODE HERE\n",
        "plot_acc(history)\n",
        "\n",
        "### END CODE"
      ],
      "execution_count": null,
      "outputs": [
        {
          "output_type": "display_data",
          "data": {
            "text/plain": [
              "<Figure size 640x480 with 1 Axes>"
            ],
            "image/png": "[encoded data removed]"
          },
          "metadata": {}
        }
      ]
    },
    {
      "cell_type": "markdown",
      "metadata": {
        "id": "fnyfhtyotUH0"
      },
      "source": [
        "## Nice! Hopefully your transfer learning model did much better on the validation data set."
      ]
    },
    {
      "cell_type": "markdown",
      "metadata": {
        "id": "14rKID6MOo4N"
      },
      "source": [
        "![](http://static1.squarespace.com/static/56ccc8724c2f8548059fbcfe/58f6daea15d5dbcc64ef63aa/5cae2d770d92977242838baa/1557942174418/SW-DistractedDriving-Clean-1.jpg?format=1500w)"
      ]
    }
  ]
}